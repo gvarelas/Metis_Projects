{
 "cells": [
  {
   "cell_type": "code",
   "execution_count": 1,
   "metadata": {},
   "outputs": [],
   "source": [
    "from bs4 import BeautifulSoup\n",
    "#import urllib2\n",
    "import requests\n",
    "import pandas as pd\n",
    "import pickle\n",
    "\n",
    "from __future__ import print_function, division\n",
    "import sys\n",
    "from bs4 import BeautifulSoup\n",
    "import requests\n",
    "\n",
    "requests.__path__\n",
    "\n",
    "import pandas as pd\n",
    "import pickle"
   ]
  },
  {
   "cell_type": "code",
   "execution_count": 2,
   "metadata": {},
   "outputs": [],
   "source": [
    "df = pd.read_csv('/Users/georgevarelas/Relevant_Fifa_Urls')"
   ]
  },
  {
   "cell_type": "code",
   "execution_count": 17,
   "metadata": {},
   "outputs": [],
   "source": [
    "def fifa_scrape(link, fifa_version):\n",
    "    \n",
    "    if fifa_version == 19:\n",
    "        url = \"https://www.fifaindex.com\" + link\n",
    "    elif fifa_version == 18:\n",
    "        url = \"https://www.fifaindex.com\" + link + \"fifa18_278/\"\n",
    "    elif fifa_version == 17:\n",
    "        url = \"https://www.fifaindex.com\" + link + \"fifa17_173/\"\n",
    "    elif fifa_version == 16:\n",
    "        url = \"https://www.fifaindex.com\" + link + \"fifa16_73/\"    \n",
    "    elif fifa_version == 15:\n",
    "        url = \"https://www.fifaindex.com\" + link + \"fifa15_14/\"\n",
    "    elif fifa_version == 14:\n",
    "        url = \"https://www.fifaindex.com\" + link + \"fifa14_13/\"\n",
    "    elif fifa_version == 13:\n",
    "        url = \"https://www.fifaindex.com\" + link + \"fifa13_10/\"\n",
    "        \n",
    "    user_agent = {'User-agent': 'Mozilla/5.0'}\n",
    "    page  = requests.get(url, headers = user_agent)\n",
    "    html = page.content\n",
    "    soup = BeautifulSoup(html, \"lxml\")\n",
    "    \n",
    "    Link = []\n",
    "    Height = []\n",
    "    Weight = []\n",
    "    Wage = []\n",
    "    Contract = []\n",
    "    Age = []\n",
    "    \n",
    "    Link.append(link)\n",
    "    \n",
    "    right_table=soup.findAll('div', class_='card-body')\n",
    "    \n",
    "    attr = right_table[1].findAll('span')\n",
    "    \n",
    "    Height.append(attr[1].text)\n",
    "    Weight.append(attr[5].text)\n",
    "    Age.append(attr[8].text)\n",
    "    Wage.append(attr[-3].text)\n",
    "    \n",
    "\n",
    "    table_strings = [str(i) for i in right_table]\n",
    "    \n",
    "    contract_index = [i for i, s in enumerate(table_strings) if 'Contract' in s][0]\n",
    "    Contract.append(right_table[contract_index].findAll('span')[-1].text)\n",
    "        \n",
    "    physical_index = [i for i, s in enumerate(table_strings[1:]) if 'Acceleration' in s][0]+1\n",
    "    physical = right_table[physical_index].findAll('span')\n",
    "    physical_data = [i.text for i in physical][::2]\n",
    "    \n",
    "    intermediate = Link + Height + Weight +  Age + Wage + Contract + physical_data\n",
    "        \n",
    "    result = intermediate[:6] + [s for s in intermediate[6:] if int(s) >= 15]\n",
    "    \n",
    "    return result\n",
    "    "
   ]
  },
  {
   "cell_type": "code",
   "execution_count": 24,
   "metadata": {},
   "outputs": [],
   "source": [
    "df = df[df.url != '/player/180175/alexandre-pato/fifa19_326/']"
   ]
  },
  {
   "cell_type": "code",
   "execution_count": 27,
   "metadata": {},
   "outputs": [],
   "source": [
    "df.reset_index(inplace = True)"
   ]
  },
  {
   "cell_type": "code",
   "execution_count": 30,
   "metadata": {},
   "outputs": [],
   "source": [
    "fifa_19 = []\n",
    "fifa_18 = []\n",
    "fifa_17 = []\n",
    "fifa_16 = []\n",
    "fifa_15 = []\n",
    "fifa_14 = []\n",
    "fifa_13 = []"
   ]
  },
  {
   "cell_type": "code",
   "execution_count": 37,
   "metadata": {},
   "outputs": [],
   "source": [
    "for i in range(len(df)):\n",
    "    fifa_19.append(fifa_scrape(df['url'][i], 19))\n",
    "    \n",
    "fifa_19_df = pd.DataFrame(fifa_19, columns=['url','Height','Weight','Age','Wage','Contract_Expiry','Acceleration', 'Stamina', 'Strength', 'Balance', 'Sprint Speed', \\\n",
    "                          'Agility', 'Jumping'])"
   ]
  },
  {
   "cell_type": "code",
   "execution_count": 40,
   "metadata": {},
   "outputs": [],
   "source": [
    "for i in range(len(df)):\n",
    "    fifa_18.append(fifa_scrape(df['url'][i], 18))\n",
    "    \n",
    "fifa_18_df = pd.DataFrame(fifa_18, columns=['url','Height','Weight','Age','Wage','Contract_Expiry','Acceleration', 'Stamina', 'Strength', 'Balance', 'Sprint Speed', \\\n",
    "                          'Agility', 'Jumping'])"
   ]
  },
  {
   "cell_type": "code",
   "execution_count": null,
   "metadata": {},
   "outputs": [],
   "source": [
    "for i in range(len(df)):\n",
    "    fifa_17.append(fifa_scrape(df['url'][i], 17))\n",
    "    \n",
    "fifa_17_df = pd.DataFrame(fifa_17, columns=['url','Height','Weight','Age','Wage','Contract_Expiry','Acceleration', 'Stamina', 'Strength', 'Balance', 'Sprint Speed', \\\n",
    "                          'Agility', 'Jumping'])"
   ]
  },
  {
   "cell_type": "code",
   "execution_count": null,
   "metadata": {},
   "outputs": [],
   "source": [
    "for i in range(len(df)):\n",
    "    fifa_16.append(fifa_scrape(df['url'][i], 16))\n",
    "    \n",
    "shouldnt_be_in_16_indices = [i for i, s in enumerate(fifa_16) if len(s) > 18]\n",
    "\n",
    "new_fifa_16 = []\n",
    "for i in range(len(fifa_16)):\n",
    "    if i not in shouldnt_be_in_16_indices:\n",
    "        new_fifa_16.append(fifa_16[i])\n",
    "\n",
    "fifa_16_df = pd.DataFrame(new_fifa_16, columns=['url','Height','Weight','Age','Wage','Contract_Expiry','Acceleration', 'Stamina', 'Strength', 'Balance', 'Sprint Speed', \\\n",
    "                          'Agility', 'Jumping'])"
   ]
  },
  {
   "cell_type": "code",
   "execution_count": null,
   "metadata": {},
   "outputs": [],
   "source": [
    "for i in range(len(df)):\n",
    "    fifa_15.append(fifa_scrape(df['url'][i], 15))\n",
    "    \n",
    "shouldnt_be_in_15_indices = [i for i, s in enumerate(fifa_15) if len(s) > 18]\n",
    "\n",
    "new_fifa_15 = []\n",
    "for i in range(len(fifa_15)):\n",
    "    if i not in shouldnt_be_in_15_indices:\n",
    "        new_fifa_15.append(fifa_15[i])\n",
    "        \n",
    "fifa_15_df = pd.DataFrame(new_fifa_15, columns=['url','Height','Weight','Age','Wage','Contract_Expiry','Acceleration', 'Stamina', 'Strength', 'Balance', 'Sprint Speed', \\\n",
    "                          'Agility', 'Jumping'])"
   ]
  },
  {
   "cell_type": "code",
   "execution_count": 681,
   "metadata": {},
   "outputs": [],
   "source": [
    "for i in range(len(df)):\n",
    "    fifa_14.append(fifa_scrape(df['url'][i], 14))\n",
    "\n",
    "shouldnt_be_in_14_indices = [i for i, s in enumerate(fifa_14) if len(s) > 18]\n",
    "\n",
    "new_fifa_14 = []\n",
    "for i in range(len(fifa_14)):\n",
    "    if i not in shouldnt_be_in_14_indices:\n",
    "        new_fifa_14.append(fifa_14[i])\n",
    "        \n",
    "fifa_14_df = pd.DataFrame(new_fifa_14, columns=['url','Height','Weight','Age','Wage','Contract_Expiry','Acceleration', 'Stamina', 'Strength', 'Balance', 'Sprint Speed', \\\n",
    "                          'Agility', 'Jumping'])"
   ]
  },
  {
   "cell_type": "code",
   "execution_count": null,
   "metadata": {},
   "outputs": [],
   "source": [
    "for i in range(len(df)):\n",
    "    fifa_13.append(fifa_scrape(df['url'][i], 13))\n",
    "    \n",
    "shouldnt_be_in_13_indices = [i for i, s in enumerate(fifa_13) if len(s) > 18]\n",
    "\n",
    "new_fifa_13 = []\n",
    "for i in range(len(fifa_13)):\n",
    "    if i not in shouldnt_be_in_13_indices:\n",
    "        new_fifa_13.append(fifa_13[i])\n",
    "        \n",
    "fifa_13_df = pd.DataFrame(new_fifa_13, columns=['url','Height','Weight','Age','Wage','Contract_Expiry','Acceleration', 'Stamina', 'Strength', 'Balance', 'Sprint Speed', \\\n",
    "                          'Agility', 'Jumping'])"
   ]
  },
  {
   "cell_type": "code",
   "execution_count": 695,
   "metadata": {},
   "outputs": [],
   "source": [
    "fifa_19_df.to_pickle('fifa_19_df.pkl')\n",
    "fifa_18_df.to_pickle('fifa_18_df.pkl')\n",
    "fifa_17_df.to_pickle('fifa_17_df.pkl')\n",
    "fifa_16_df.to_pickle('fifa_16_df.pkl')\n",
    "fifa_15_df.to_pickle('fifa_15_df.pkl')\n",
    "fifa_14_df.to_pickle('fifa_14_df.pkl')\n",
    "fifa_13_df.to_pickle('fifa_13_df.pkl')"
   ]
  }
 ],
 "metadata": {
  "kernelspec": {
   "display_name": "Python 3",
   "language": "python",
   "name": "python3"
  },
  "language_info": {
   "codemirror_mode": {
    "name": "ipython",
    "version": 3
   },
   "file_extension": ".py",
   "mimetype": "text/x-python",
   "name": "python",
   "nbconvert_exporter": "python",
   "pygments_lexer": "ipython3",
   "version": "3.6.8"
  }
 },
 "nbformat": 4,
 "nbformat_minor": 2
}
