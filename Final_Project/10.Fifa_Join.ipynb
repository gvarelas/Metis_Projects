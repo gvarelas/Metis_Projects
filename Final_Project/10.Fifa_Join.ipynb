{
 "cells": [
  {
   "cell_type": "code",
   "execution_count": null,
   "metadata": {},
   "outputs": [],
   "source": [
    "import pandas as pd\n",
    "import pickle"
   ]
  },
  {
   "cell_type": "code",
   "execution_count": 2,
   "metadata": {},
   "outputs": [],
   "source": [
    "df = pd.read_csv('/Users/georgevarelas/Relevant_Fifa_Urls')\n",
    "main = pd.read_pickle('/Users/georgevarelas/Downloads/scraper-whoscored-master MAIN/TRANSFERMARKT_WHOSCORED_MERGE.pkl')\n",
    "\n",
    "fifa_13_df = pd.read_pickle('/Users/georgevarelas/fifa_13_df.pkl')\n",
    "fifa_14_df = pd.read_pickle('/Users/georgevarelas/fifa_14_df.pkl')\n",
    "fifa_15_df = pd.read_pickle('/Users/georgevarelas/fifa_15_df.pkl')\n",
    "fifa_16_df = pd.read_pickle('/Users/georgevarelas/fifa_16_df.pkl')\n",
    "fifa_17_df = pd.read_pickle('/Users/georgevarelas/fifa_17_df.pkl')\n",
    "fifa_18_df = pd.read_pickle('/Users/georgevarelas/fifa_18_df.pkl')\n",
    "fifa_19_df = pd.read_pickle('/Users/georgevarelas/fifa_19_df.pkl')"
   ]
  },
  {
   "cell_type": "code",
   "execution_count": 4,
   "metadata": {},
   "outputs": [],
   "source": [
    "main = main.dropna()"
   ]
  },
  {
   "cell_type": "code",
   "execution_count": 5,
   "metadata": {},
   "outputs": [],
   "source": [
    "main['Market_Value'] = main['Market_Value'].apply(lambda row: float(row))\n",
    "main['Age'] = main['Age'].apply(lambda row: float(row))"
   ]
  },
  {
   "cell_type": "code",
   "execution_count": 6,
   "metadata": {},
   "outputs": [],
   "source": [
    "fifa_13_df['Season'] = 2012\n",
    "fifa_14_df['Season'] = 2013\n",
    "fifa_15_df['Season'] = 2014\n",
    "fifa_16_df['Season'] = 2015\n",
    "fifa_17_df['Season'] = 2016\n",
    "fifa_18_df['Season'] = 2017\n",
    "fifa_19_df['Season'] = 2018"
   ]
  },
  {
   "cell_type": "code",
   "execution_count": 9,
   "metadata": {},
   "outputs": [],
   "source": [
    "to_drop_new = ['Aggression', 'Reactions', 'Att_Position', 'Interceptions', 'Vision',\\\n",
    "               'Composure', 'Acceleration', 'Stamina', 'Strength', 'Balance',\\\n",
    "               'Sprint Speed', 'Agility', 'Jumping']\n",
    "to_drop_old = ['Aggression', 'Reactions', 'Att_Position', 'Interceptions', 'Vision',\\\n",
    "                'Acceleration', 'Stamina', 'Strength', 'Balance',\\\n",
    "               'Sprint Speed', 'Agility', 'Jumping']\n",
    "\n",
    "fifa_19_df = fifa_19_df.drop(columns = to_drop_new)\n",
    "fifa_18_df = fifa_18_df.drop(columns = to_drop_new)\n",
    "fifa_17_df = fifa_17_df.drop(columns = to_drop_new)\n",
    "\n",
    "fifa_16_df = fifa_16_df.drop(columns = to_drop_old)\n",
    "fifa_15_df = fifa_15_df.drop(columns = to_drop_old)\n",
    "fifa_14_df = fifa_14_df.drop(columns = to_drop_old)\n",
    "fifa_13_df = fifa_13_df.drop(columns = to_drop_old)\n"
   ]
  },
  {
   "cell_type": "code",
   "execution_count": 18,
   "metadata": {},
   "outputs": [],
   "source": [
    "df = df.iloc[:, 1:]"
   ]
  },
  {
   "cell_type": "code",
   "execution_count": 20,
   "metadata": {},
   "outputs": [],
   "source": [
    "df['times'] = 7"
   ]
  },
  {
   "cell_type": "code",
   "execution_count": 56,
   "metadata": {},
   "outputs": [],
   "source": [
    "test = df.loc[df.index.repeat(df.times)].reset_index(drop = True)\n",
    "test['Season']  = [(i % 7) + 2012 for i in range(len(test))]\n",
    "test = test.drop(columns = 'times')\n",
    "test = pd.merge(test, fifa_19_df, how = 'outer', on = ['url', 'Season'])"
   ]
  },
  {
   "cell_type": "code",
   "execution_count": 70,
   "metadata": {},
   "outputs": [],
   "source": [
    "fifa = pd.concat([fifa_19_df, fifa_18_df, fifa_17_df, fifa_16_df, fifa_15_df, fifa_14_df, fifa_13_df])"
   ]
  },
  {
   "cell_type": "code",
   "execution_count": 71,
   "metadata": {},
   "outputs": [],
   "source": [
    "fifa_final = pd.merge(test, fifa, how = 'outer', on = ['url', 'Season'])"
   ]
  },
  {
   "cell_type": "code",
   "execution_count": 87,
   "metadata": {},
   "outputs": [],
   "source": [
    "#Moussa Dembele was a duplicate name, ended up scraping the wrong one\n",
    "fifa_final = fifa_final[fifa_final.Name != 'Moussa Dembele']\n",
    "fifa_final = fifa_final.dropna()\n",
    "fifa_final = fifa_final.reset_index(drop = True)\n",
    "fifa_final = fifa_final.drop(fifa_final.index[[6236, 6237, 6238, 6239, 6240]])"
   ]
  },
  {
   "cell_type": "code",
   "execution_count": 117,
   "metadata": {},
   "outputs": [],
   "source": [
    "fifa_final['Height'] = fifa_final['Height'].apply(lambda row: float(row.split(' ')[0]))\n",
    "fifa_final['Weight'] = fifa_final['Weight'].apply(lambda row: float(row.split(' ')[0]))"
   ]
  },
  {
   "cell_type": "code",
   "execution_count": 119,
   "metadata": {},
   "outputs": [],
   "source": [
    "fifa_final = fifa_final[fifa_final.Name != 'Hulk']"
   ]
  },
  {
   "cell_type": "code",
   "execution_count": null,
   "metadata": {},
   "outputs": [],
   "source": [
    "fifa_final['Wage'] = fifa_final['Wage'].apply(lambda row: (row[1:].split('.')[0] + '000'))\n",
    "fifa_final['Wage'] = fifa_final['Wage'].apply(lambda row: float(row))"
   ]
  },
  {
   "cell_type": "code",
   "execution_count": 153,
   "metadata": {},
   "outputs": [],
   "source": [
    "fifa_final.to_pickle('fifa_final.pkl')"
   ]
  },
  {
   "cell_type": "code",
   "execution_count": null,
   "metadata": {},
   "outputs": [],
   "source": []
  }
 ],
 "metadata": {
  "kernelspec": {
   "display_name": "Python 3",
   "language": "python",
   "name": "python3"
  },
  "language_info": {
   "codemirror_mode": {
    "name": "ipython",
    "version": 3
   },
   "file_extension": ".py",
   "mimetype": "text/x-python",
   "name": "python",
   "nbconvert_exporter": "python",
   "pygments_lexer": "ipython3",
   "version": "3.6.8"
  }
 },
 "nbformat": 4,
 "nbformat_minor": 2
}
