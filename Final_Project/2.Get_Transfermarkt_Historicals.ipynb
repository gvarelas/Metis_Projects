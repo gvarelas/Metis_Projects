{
 "cells": [
  {
   "cell_type": "code",
   "execution_count": 458,
   "metadata": {},
   "outputs": [],
   "source": [
    "from __future__ import print_function, division\n",
    "import sys\n",
    "from bs4 import BeautifulSoup\n",
    "import requests\n",
    "\n",
    "requests.__path__\n",
    "\n",
    "from selenium import webdriver\n",
    "from selenium.webdriver.common.keys import Keys\n",
    "import time\n",
    "import os\n",
    "import random\n",
    "\n",
    "import pandas as pd\n",
    "import pickle"
   ]
  },
  {
   "cell_type": "code",
   "execution_count": 326,
   "metadata": {},
   "outputs": [],
   "source": [
    "chromedriver = \"/Users/georgevarelas/Downloads/chromedriver\" # path to the chromedriver executable\n",
    "os.environ[\"webdriver.chrome.driver\"] = chromedriver"
   ]
  },
  {
   "cell_type": "code",
   "execution_count": 507,
   "metadata": {},
   "outputs": [],
   "source": [
    "def get_historical_prices(link):\n",
    "    url = \"https://www.transfermarkt.com\" + link.replace('profil', 'marktwertverlauf')\n",
    "    driver = webdriver.Chrome(chromedriver)\n",
    "    driver.get(url)\n",
    "    \n",
    "    time.sleep(2)\n",
    "    soup = BeautifulSoup(driver.page_source, 'html.parser')\n",
    "    \n",
    "    script = soup.find_all('script')\n",
    "    \n",
    "    data = (str(script[len(script)-1]))\n",
    "    data = data.split(\"'series':[{\")[1].split(\"\\'y\")\n",
    "    \n",
    "    age = []\n",
    "    value = []\n",
    "    club = []\n",
    "    date = []\n",
    "\n",
    "    for i in range(1, len(data)):\n",
    "        value.append(data[i].split(':')[1].split(',')[0])\n",
    "        age.append(data[i].split(':')[3].split(',')[0])\n",
    "        club.append(data[i].split(':')[2].split(',')[0].replace(\"'\", \"\").replace(\"\\\\x20\", \" \").replace(\"\\\\x2D\", \" \"))\n",
    "\n",
    "        day = data[i].split(':')[5].split(',')[:-1]\n",
    "        date.append(day[0][1:4] + \" \" + day[0][-2:] + \", \"+ day[1][-5:-1])\n",
    "    \n",
    "    \n",
    "\n",
    "    \n",
    "    find_agents = soup.find_all(\"div\", {\"class\":\"row\"})\n",
    "    try:\n",
    "        agent = str(find_agents).split('<span class=\"dataItem\">Agent:</span>')[1]\n",
    "        agent_name = agent.split('title=\"')[1].split('\"')[0]\n",
    "    except IndexError:\n",
    "        agent_name = 'NAN'\n",
    "    \n",
    "    \n",
    "    \n",
    "    historicals = list(zip(*[date, value, age, club])) + [agent_name]\n",
    "    \n",
    "    driver.close()\n",
    "    \n",
    "    return historicals"
   ]
  },
  {
   "cell_type": "code",
   "execution_count": 431,
   "metadata": {},
   "outputs": [
    {
     "data": {
      "text/plain": [
       "[('Sep 11, 2012', '2500000', '17', 'Liverpool FC'),\n",
       " ('Jan 28, 2013', '11500000', '18', 'Liverpool FC'),\n",
       " ('Jul 02, 2013', '12500000', '18', 'Liverpool FC'),\n",
       " ('Jan 15, 2014', '13000000', '19', 'Liverpool FC'),\n",
       " ('Aug 12, 2014', '20000000', '19', 'Liverpool FC'),\n",
       " ('Feb 12, 2015', '30000000', '20', 'Liverpool FC'),\n",
       " ('Jul 01, 2015', '40000000', '20', 'Liverpool FC'),\n",
       " ('Oct 14, 2015', '50000000', '20', 'Manchester City'),\n",
       " ('Feb 09, 2016', '50000000', '21', 'Manchester City'),\n",
       " ('Jun 01, 2016', '45000000', '21', 'Manchester City'),\n",
       " ('Aug 01, 2016', '45000000', '21', 'Manchester City'),\n",
       " ('Feb 20, 2017', '45000000', '22', 'Manchester City'),\n",
       " ('Jun 28, 2017', '45000000', '22', 'Manchester City'),\n",
       " ('Oct 23, 2017', '50000000', '22', 'Manchester City'),\n",
       " ('Jan 02, 2018', '80000000', '23', 'Manchester City'),\n",
       " ('May 28, 2018', '90000000', '23', 'Manchester City'),\n",
       " ('Dec 19, 2018', '120000000', '24', 'Manchester City'),\n",
       " 'Colossal Sports Management']"
      ]
     },
     "execution_count": 431,
     "metadata": {},
     "output_type": "execute_result"
    }
   ],
   "source": [
    "get_historical_prices(\"/raheem-sterling/profil/spieler/134425\")"
   ]
  },
  {
   "cell_type": "code",
   "execution_count": 246,
   "metadata": {},
   "outputs": [],
   "source": [
    "players = pd.read_pickle('/Users/georgevarelas/Luther/Players_Transfermarkt.pkl')"
   ]
  },
  {
   "cell_type": "code",
   "execution_count": 432,
   "metadata": {},
   "outputs": [
    {
     "data": {
      "text/html": [
       "<div>\n",
       "<style scoped>\n",
       "    .dataframe tbody tr th:only-of-type {\n",
       "        vertical-align: middle;\n",
       "    }\n",
       "\n",
       "    .dataframe tbody tr th {\n",
       "        vertical-align: top;\n",
       "    }\n",
       "\n",
       "    .dataframe thead th {\n",
       "        text-align: right;\n",
       "    }\n",
       "</style>\n",
       "<table border=\"1\" class=\"dataframe\">\n",
       "  <thead>\n",
       "    <tr style=\"text-align: right;\">\n",
       "      <th></th>\n",
       "      <th>Players</th>\n",
       "      <th>Profile_Link</th>\n",
       "      <th>Club</th>\n",
       "      <th>Values</th>\n",
       "      <th>Old Values</th>\n",
       "      <th>Position</th>\n",
       "      <th>Age</th>\n",
       "      <th>Matches</th>\n",
       "      <th>Goals</th>\n",
       "      <th>Own Goals</th>\n",
       "      <th>Assists</th>\n",
       "      <th>Yellow Cards</th>\n",
       "      <th>Second Yellow</th>\n",
       "      <th>Red Cards</th>\n",
       "      <th>Sub In</th>\n",
       "      <th>Sub Out</th>\n",
       "    </tr>\n",
       "  </thead>\n",
       "  <tbody>\n",
       "    <tr>\n",
       "      <th>0</th>\n",
       "      <td>Kylian Mbappé</td>\n",
       "      <td>/kylian-mbappe/profil/spieler/342229</td>\n",
       "      <td>Paris Saint-Germain</td>\n",
       "      <td>180.0</td>\n",
       "      <td>180.0</td>\n",
       "      <td>Centre-Forward</td>\n",
       "      <td>20</td>\n",
       "      <td>52</td>\n",
       "      <td>43</td>\n",
       "      <td>0</td>\n",
       "      <td>20</td>\n",
       "      <td>8</td>\n",
       "      <td>0</td>\n",
       "      <td>2</td>\n",
       "      <td>8</td>\n",
       "      <td>7</td>\n",
       "    </tr>\n",
       "    <tr>\n",
       "      <th>1</th>\n",
       "      <td>Neymar</td>\n",
       "      <td>/neymar/profil/spieler/68290</td>\n",
       "      <td>Paris Saint-Germain</td>\n",
       "      <td>162.0</td>\n",
       "      <td>162.0</td>\n",
       "      <td>Left Winger</td>\n",
       "      <td>27</td>\n",
       "      <td>34</td>\n",
       "      <td>26</td>\n",
       "      <td>0</td>\n",
       "      <td>19</td>\n",
       "      <td>9</td>\n",
       "      <td>0</td>\n",
       "      <td>0</td>\n",
       "      <td>2</td>\n",
       "      <td>9</td>\n",
       "    </tr>\n",
       "    <tr>\n",
       "      <th>2</th>\n",
       "      <td>Lionel Messi</td>\n",
       "      <td>/lionel-messi/profil/spieler/28003</td>\n",
       "      <td>FC Barcelona</td>\n",
       "      <td>144.0</td>\n",
       "      <td>162.0</td>\n",
       "      <td>Right Winger</td>\n",
       "      <td>31</td>\n",
       "      <td>51</td>\n",
       "      <td>51</td>\n",
       "      <td>0</td>\n",
       "      <td>22</td>\n",
       "      <td>3</td>\n",
       "      <td>0</td>\n",
       "      <td>0</td>\n",
       "      <td>7</td>\n",
       "      <td>1</td>\n",
       "    </tr>\n",
       "  </tbody>\n",
       "</table>\n",
       "</div>"
      ],
      "text/plain": [
       "         Players                          Profile_Link                 Club  \\\n",
       "0  Kylian Mbappé  /kylian-mbappe/profil/spieler/342229  Paris Saint-Germain   \n",
       "1         Neymar          /neymar/profil/spieler/68290  Paris Saint-Germain   \n",
       "2   Lionel Messi    /lionel-messi/profil/spieler/28003         FC Barcelona   \n",
       "\n",
       "   Values  Old Values        Position  Age  Matches  Goals  Own Goals  \\\n",
       "0   180.0       180.0  Centre-Forward   20       52     43          0   \n",
       "1   162.0       162.0     Left Winger   27       34     26          0   \n",
       "2   144.0       162.0    Right Winger   31       51     51          0   \n",
       "\n",
       "   Assists  Yellow Cards  Second Yellow  Red Cards  Sub In  Sub Out  \n",
       "0       20             8              0          2       8        7  \n",
       "1       19             9              0          0       2        9  \n",
       "2       22             3              0          0       7        1  "
      ]
     },
     "execution_count": 432,
     "metadata": {},
     "output_type": "execute_result"
    }
   ],
   "source": [
    "players.head(3)"
   ]
  },
  {
   "cell_type": "code",
   "execution_count": 371,
   "metadata": {},
   "outputs": [],
   "source": [
    "d = {}"
   ]
  },
  {
   "cell_type": "code",
   "execution_count": 505,
   "metadata": {},
   "outputs": [],
   "source": [
    "not_appended = []\n",
    "\n",
    "for i in (players['Profile_Link']):\n",
    "    count = 0\n",
    "    if count % 25 == 0:\n",
    "        f = open(\"players_dictionary.pkl\",\"wb\")\n",
    "        pickle.dump(d,f)\n",
    "        f.close()\n",
    "    try:\n",
    "        d[i] = get_historical_prices(i)\n",
    "        count += 1\n",
    "    except IndexError:\n",
    "        print(i)\n",
    "        not_appended.append(i)\n",
    "        continue\n",
    "        \n",
    "print(len(not_appended))"
   ]
  },
  {
   "cell_type": "code",
   "execution_count": 515,
   "metadata": {},
   "outputs": [],
   "source": [
    "second_attempt_failed = []\n",
    "\n",
    "for i in not_appended:\n",
    "    count = 0\n",
    "    if count % 25 == 0:\n",
    "        f = open(\"players_dictionary.pkl\",\"wb\")\n",
    "        pickle.dump(d,f)\n",
    "        f.close()\n",
    "    try:\n",
    "        d[i] = get_historical_prices(i)\n",
    "        count += 1\n",
    "    except IndexError:\n",
    "        print(i)\n",
    "        second_attempt_failed.append(i)\n",
    "        continue"
   ]
  },
  {
   "cell_type": "code",
   "execution_count": 518,
   "metadata": {},
   "outputs": [],
   "source": [
    "third_attempt_failed = []\n",
    "\n",
    "for i in second_attempt_failed:\n",
    "    count = 0\n",
    "    if count % 25 == 0:\n",
    "        f = open(\"players_dictionary.pkl\",\"wb\")\n",
    "        pickle.dump(d,f)\n",
    "        f.close()\n",
    "    try:\n",
    "        d[i] = get_historical_prices(i)\n",
    "        count += 1\n",
    "    except IndexError:\n",
    "        print(i)\n",
    "        third_attempt_failed.append(i)\n",
    "        continue"
   ]
  },
  {
   "cell_type": "code",
   "execution_count": 523,
   "metadata": {},
   "outputs": [],
   "source": [
    "fourth_attempt_failed = []\n",
    "\n",
    "for i in third_attempt_failed:\n",
    "    count = 0\n",
    "    if count % 25 == 0:\n",
    "        f = open(\"players_dictionary.pkl\",\"wb\")\n",
    "        pickle.dump(d,f)\n",
    "        f.close()\n",
    "    try:\n",
    "        d[i] = get_historical_prices(i)\n",
    "        count += 1\n",
    "    except IndexError:\n",
    "        print(i)\n",
    "        fourth_attempt_failed.append(i)\n",
    "        continue"
   ]
  },
  {
   "cell_type": "code",
   "execution_count": 527,
   "metadata": {},
   "outputs": [],
   "source": [
    "f = open(\"players_dictionary.pkl\",\"wb\")\n",
    "pickle.dump(d,f)\n",
    "f.close()"
   ]
  },
  {
   "cell_type": "code",
   "execution_count": 532,
   "metadata": {},
   "outputs": [],
   "source": [
    "players['Historical_Values'] = players['Profile_Link'].map(d)"
   ]
  },
  {
   "cell_type": "code",
   "execution_count": 546,
   "metadata": {},
   "outputs": [],
   "source": [
    "players['Agent'] = players['Historical_Values'].apply(lambda row: row[len(row) - 1])"
   ]
  },
  {
   "cell_type": "code",
   "execution_count": 548,
   "metadata": {},
   "outputs": [],
   "source": [
    "players['Historical_Values'] = players['Historical_Values'].apply(lambda row: row[:len(row) - 1])"
   ]
  },
  {
   "cell_type": "code",
   "execution_count": 552,
   "metadata": {},
   "outputs": [],
   "source": [
    "players.to_pickle(\"Transfermarkt_Historicals.pkl\")"
   ]
  },
  {
   "cell_type": "code",
   "execution_count": null,
   "metadata": {},
   "outputs": [],
   "source": []
  }
 ],
 "metadata": {
  "kernelspec": {
   "display_name": "Python 3",
   "language": "python",
   "name": "python3"
  },
  "language_info": {
   "codemirror_mode": {
    "name": "ipython",
    "version": 3
   },
   "file_extension": ".py",
   "mimetype": "text/x-python",
   "name": "python",
   "nbconvert_exporter": "python",
   "pygments_lexer": "ipython3",
   "version": "3.6.8"
  }
 },
 "nbformat": 4,
 "nbformat_minor": 2
}
