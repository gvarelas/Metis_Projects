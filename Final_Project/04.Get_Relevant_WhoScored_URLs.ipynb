{
 "cells": [
  {
   "cell_type": "code",
   "execution_count": 1,
   "metadata": {},
   "outputs": [],
   "source": [
    "import pandas as pd\n",
    "import numpy as np\n",
    "\n",
    "from copy import deepcopy\n",
    "import unidecode\n",
    "\n",
    "import pickle"
   ]
  },
  {
   "cell_type": "code",
   "execution_count": 2,
   "metadata": {},
   "outputs": [],
   "source": [
    "players = pd.read_pickle(\"Players_Historicals_With_Injuries.pkl\")"
   ]
  },
  {
   "cell_type": "code",
   "execution_count": 3,
   "metadata": {},
   "outputs": [
    {
     "data": {
      "text/html": [
       "<div>\n",
       "<style scoped>\n",
       "    .dataframe tbody tr th:only-of-type {\n",
       "        vertical-align: middle;\n",
       "    }\n",
       "\n",
       "    .dataframe tbody tr th {\n",
       "        vertical-align: top;\n",
       "    }\n",
       "\n",
       "    .dataframe thead th {\n",
       "        text-align: right;\n",
       "    }\n",
       "</style>\n",
       "<table border=\"1\" class=\"dataframe\">\n",
       "  <thead>\n",
       "    <tr style=\"text-align: right;\">\n",
       "      <th></th>\n",
       "      <th>Players</th>\n",
       "      <th>Profile_Link</th>\n",
       "      <th>Club</th>\n",
       "      <th>Values</th>\n",
       "      <th>Old Values</th>\n",
       "      <th>Position</th>\n",
       "      <th>Age</th>\n",
       "      <th>Matches</th>\n",
       "      <th>Goals</th>\n",
       "      <th>Own Goals</th>\n",
       "      <th>Assists</th>\n",
       "      <th>Yellow Cards</th>\n",
       "      <th>Second Yellow</th>\n",
       "      <th>Red Cards</th>\n",
       "      <th>Sub In</th>\n",
       "      <th>Sub Out</th>\n",
       "      <th>Historical_Values</th>\n",
       "      <th>Agent</th>\n",
       "    </tr>\n",
       "  </thead>\n",
       "  <tbody>\n",
       "    <tr>\n",
       "      <th>0</th>\n",
       "      <td>Kylian Mbappé</td>\n",
       "      <td>/kylian-mbappe/profil/spieler/342229</td>\n",
       "      <td>Paris Saint-Germain</td>\n",
       "      <td>180.0</td>\n",
       "      <td>180.0</td>\n",
       "      <td>Centre-Forward</td>\n",
       "      <td>20</td>\n",
       "      <td>52</td>\n",
       "      <td>43</td>\n",
       "      <td>0</td>\n",
       "      <td>20</td>\n",
       "      <td>8</td>\n",
       "      <td>0</td>\n",
       "      <td>2</td>\n",
       "      <td>8</td>\n",
       "      <td>7</td>\n",
       "      <td>[(Dec 02, 2015, 50000, 16, AS Monaco U19), (Fe...</td>\n",
       "      <td>Relatives</td>\n",
       "    </tr>\n",
       "  </tbody>\n",
       "</table>\n",
       "</div>"
      ],
      "text/plain": [
       "         Players                          Profile_Link                 Club  \\\n",
       "0  Kylian Mbappé  /kylian-mbappe/profil/spieler/342229  Paris Saint-Germain   \n",
       "\n",
       "   Values  Old Values        Position  Age  Matches  Goals  Own Goals  \\\n",
       "0   180.0       180.0  Centre-Forward   20       52     43          0   \n",
       "\n",
       "   Assists  Yellow Cards  Second Yellow  Red Cards  Sub In  Sub Out  \\\n",
       "0       20             8              0          2       8        7   \n",
       "\n",
       "                                   Historical_Values      Agent  \n",
       "0  [(Dec 02, 2015, 50000, 16, AS Monaco U19), (Fe...  Relatives  "
      ]
     },
     "execution_count": 3,
     "metadata": {},
     "output_type": "execute_result"
    }
   ],
   "source": [
    "players.head(1)"
   ]
  },
  {
   "cell_type": "code",
   "execution_count": 17,
   "metadata": {},
   "outputs": [],
   "source": [
    "whoscored = pd.read_csv(\"/Users/georgevarelas/Metis/Final Project/Code/scraper-whoscored-master MAIN/players_data/whoscored_data.txt\", header = 0)\n"
   ]
  },
  {
   "cell_type": "code",
   "execution_count": 18,
   "metadata": {},
   "outputs": [
    {
     "data": {
      "text/plain": [
       "31"
      ]
     },
     "execution_count": 18,
     "metadata": {},
     "output_type": "execute_result"
    }
   ],
   "source": [
    "len(whoscored.columns)"
   ]
  },
  {
   "cell_type": "code",
   "execution_count": 19,
   "metadata": {},
   "outputs": [],
   "source": [
    "newcols = ['Player']"
   ]
  },
  {
   "cell_type": "code",
   "execution_count": 20,
   "metadata": {},
   "outputs": [],
   "source": [
    "for i in range(30):\n",
    "    newcols.append(str(i))"
   ]
  },
  {
   "cell_type": "code",
   "execution_count": 21,
   "metadata": {},
   "outputs": [],
   "source": [
    "whoscored.columns = newcols"
   ]
  },
  {
   "cell_type": "code",
   "execution_count": 28,
   "metadata": {},
   "outputs": [],
   "source": [
    "whoscored = whoscored[['Player', \"0\"]]"
   ]
  },
  {
   "cell_type": "code",
   "execution_count": 29,
   "metadata": {},
   "outputs": [],
   "source": [
    "def extract_name(url):\n",
    "    if url.split(\"[\\'\")[1].split(\"-\")[0] != \"Undefined'\":\n",
    "        return url.split(\"[\\'\")[1].split(\"-\")[0]\n",
    "    else:\n",
    "        return url.split('Show/')[1].split(':')[0][:-1].replace(\"-\", \" \")"
   ]
  },
  {
   "cell_type": "code",
   "execution_count": 30,
   "metadata": {},
   "outputs": [
    {
     "name": "stderr",
     "output_type": "stream",
     "text": [
      "/anaconda3/lib/python3.6/site-packages/ipykernel_launcher.py:1: SettingWithCopyWarning: \n",
      "A value is trying to be set on a copy of a slice from a DataFrame.\n",
      "Try using .loc[row_indexer,col_indexer] = value instead\n",
      "\n",
      "See the caveats in the documentation: http://pandas.pydata.org/pandas-docs/stable/indexing.html#indexing-view-versus-copy\n",
      "  \"\"\"Entry point for launching an IPython kernel.\n"
     ]
    }
   ],
   "source": [
    "whoscored['Name'] = whoscored['Player'].apply(extract_name)"
   ]
  },
  {
   "cell_type": "code",
   "execution_count": 98,
   "metadata": {},
   "outputs": [
    {
     "name": "stderr",
     "output_type": "stream",
     "text": [
      "/anaconda3/lib/python3.6/site-packages/ipykernel_launcher.py:1: SettingWithCopyWarning: \n",
      "A value is trying to be set on a copy of a slice from a DataFrame\n",
      "\n",
      "See the caveats in the documentation: http://pandas.pydata.org/pandas-docs/stable/indexing.html#indexing-view-versus-copy\n",
      "  \"\"\"Entry point for launching an IPython kernel.\n"
     ]
    }
   ],
   "source": [
    "whoscored.drop_duplicates(inplace = True)"
   ]
  },
  {
   "cell_type": "code",
   "execution_count": 134,
   "metadata": {},
   "outputs": [],
   "source": [
    "whoscored_test = deepcopy(whoscored)"
   ]
  },
  {
   "cell_type": "code",
   "execution_count": 135,
   "metadata": {},
   "outputs": [],
   "source": [
    "whoscored_test = whoscored_test[whoscored_test['Name'].isin(players['Name'].unique())]"
   ]
  },
  {
   "cell_type": "code",
   "execution_count": 138,
   "metadata": {},
   "outputs": [
    {
     "data": {
      "text/html": [
       "<div>\n",
       "<style scoped>\n",
       "    .dataframe tbody tr th:only-of-type {\n",
       "        vertical-align: middle;\n",
       "    }\n",
       "\n",
       "    .dataframe tbody tr th {\n",
       "        vertical-align: top;\n",
       "    }\n",
       "\n",
       "    .dataframe thead th {\n",
       "        text-align: right;\n",
       "    }\n",
       "</style>\n",
       "<table border=\"1\" class=\"dataframe\">\n",
       "  <thead>\n",
       "    <tr style=\"text-align: right;\">\n",
       "      <th></th>\n",
       "      <th>Player</th>\n",
       "      <th>0</th>\n",
       "      <th>Name</th>\n",
       "    </tr>\n",
       "  </thead>\n",
       "  <tbody>\n",
       "    <tr>\n",
       "      <th>7943</th>\n",
       "      <td>{'/Players/300713/Show/Kylian-Mbappe': \"['Kyli...</td>\n",
       "      <td>'0.74'</td>\n",
       "      <td>Kylian Mbappe</td>\n",
       "    </tr>\n",
       "  </tbody>\n",
       "</table>\n",
       "</div>"
      ],
      "text/plain": [
       "                                                 Player        0  \\\n",
       "7943  {'/Players/300713/Show/Kylian-Mbappe': \"['Kyli...   '0.74'   \n",
       "\n",
       "               Name  \n",
       "7943  Kylian Mbappe  "
      ]
     },
     "execution_count": 138,
     "metadata": {},
     "output_type": "execute_result"
    }
   ],
   "source": [
    "whoscored_test[whoscored_test['Name'] == 'Kylian Mbappe']"
   ]
  },
  {
   "cell_type": "code",
   "execution_count": 139,
   "metadata": {},
   "outputs": [],
   "source": []
  },
  {
   "cell_type": "code",
   "execution_count": 149,
   "metadata": {},
   "outputs": [],
   "source": [
    "not_in_whoscored = np.setdiff1d(players['Name'],whoscored_test['Name'])"
   ]
  },
  {
   "cell_type": "code",
   "execution_count": 152,
   "metadata": {},
   "outputs": [
    {
     "data": {
      "text/plain": [
       "array(['Abderazak Hamdallah', 'Abdoulay Diaby', 'Abel Hernandez',\n",
       "       'Adam Webster', 'Aden Flint', 'Adolfo Gaich', 'Adrien Trebel',\n",
       "       'Agustin Urzi', 'Ahmed Hegazy', 'Alberto Cerri',\n",
       "       'Alejandro Pozuelo', 'Alex Moreno', 'Alexandru Mitrita',\n",
       "       'Alexis Mac Allister', 'Alireza Jahanbakhsh', 'Alphonso Davies',\n",
       "       'Andre Schurrle', 'Andre Zambo Anguissa', 'Andrea Favilli',\n",
       "       'Andrea Pinamonti', 'Andrii Yarmolenko', 'Angelino', 'Ante Coric',\n",
       "       'Anthony Limbombe', 'Antonino La Gumina', 'Antony', 'Arber Zeneli',\n",
       "       'Arijan Ademi', 'Arnaut Danjuma', 'Arne Maier', 'Arturo Vidal',\n",
       "       'Augusto Solari', 'Aurelien Tchouameni', 'Axel Tuanzebe',\n",
       "       'Baghdad Bounedjah', 'Ben Brereton', 'Ben Gibson', 'Benito Raman',\n",
       "       'Benjamin Verbic', 'Benoit Badiashile', 'Bernard', 'Bobby Reid',\n",
       "       'Borja Iglesias', 'Bradley Dack', 'Brandon Mechele',\n",
       "       'Britt Assombalonga', 'Bruno Valdez', 'Calvin Stengs',\n",
       "       'Carles Alena', 'Carlos Vinicius', 'Cesar Montes',\n",
       "       'Chang hun Kwon', 'Che Adams', 'Chris Mepham', 'Christian Kouame',\n",
       "       'Christian Luyindama', 'Christian Pulisic', 'Colin Dagba',\n",
       "       'Conor Coady', 'Corentin Tolisso', 'Cristian Benavente',\n",
       "       'Cristian Ferreira', 'Cristian Romero', 'Cucho Hernandez',\n",
       "       'Dael Fry', 'Dan Axel Zagadou', 'Dani Olmo', 'Dani Parejo',\n",
       "       \"Danilo D'Ambrosio\", 'Danny Drinkwater', 'David Alaba',\n",
       "       'David Brooks', 'David Okereke', 'Davie Selke', 'Dayot Upamecano',\n",
       "       'Denis Bouanga', 'Denzel Dumfries', 'Diego Lainez', 'Diego Rossi',\n",
       "       'Diogo Jota', 'Djaniny', 'Djene', 'Dmitri Poloz',\n",
       "       'Donny van de Beek', 'Dorukhan Tokoz', 'Dylan Bronn',\n",
       "       'Edson Alvarez', 'Emmanuel Dennis', 'Erick Gutierrez',\n",
       "       \"Evan N'Dicka\", 'Exequiel Palacios', 'Facundo Ferreyra',\n",
       "       'Famara Diedhiou', 'Federico Santander', 'Fernando Calero',\n",
       "       'Ferran Torres', 'Ferro', 'Fikayo Tomori', 'Filip Benkovic',\n",
       "       'Florentino', 'Florian Grillitsch', 'Florian Neuhaus',\n",
       "       'Fran Beltran', 'Fran Sol', 'Francis Guerrero',\n",
       "       'Francisco Montero', 'Fred', 'Frenkie de Jong', 'Gabriel Barbosa',\n",
       "       'Garry Rodrigues', 'Gaston Pereiro', 'George Saville',\n",
       "       'Georgi Schennikov', 'Georgiy Dzhikiya', 'Gian Marco Ferrari',\n",
       "       'Giangiacomo Magnani', 'Gianluca Caprari', 'Gil',\n",
       "       'Giorgi Chakvetadze', 'Gonzalo Martinez', 'Gonzalo Montiel',\n",
       "       'Graziano Pelle', 'Guido Rodriguez', 'Guillermo Fernandez',\n",
       "       'Gustavo Scarpa', 'Hakim Ziyech', 'Hamed Junior Traore',\n",
       "       'Hans Vanaken', 'Harry Wilson', 'Hassane Bande', 'Hatem Ben Arfa',\n",
       "       'Helder Costa', 'Henry Onyekuru', 'Heung min Son',\n",
       "       'Hirving Lozano', 'Hordur Magnusson', 'Ignacio Fernandez',\n",
       "       'Ignacio Pussetto', 'Irfan Can Kahveci', 'Ismael Bennacer',\n",
       "       'Ismaily', 'Ivan Cavaleiro', 'Ivan Marcone', 'Jack Grealish',\n",
       "       \"Jack O'Connell\", 'Jacob Bruun Larsen', 'Jadon Sancho',\n",
       "       'Jaime Mata', 'James Chester', 'James Maddison', 'James Rodriguez',\n",
       "       'Jarrod Bowen', 'Javairo Dilrosun', 'Javi Martinez',\n",
       "       'Jean Clair Todibo', 'Jean Paul Boetius', 'Jean Pyerre',\n",
       "       'Jeremiah St. Juste', 'Jerome Boateng', 'Jesus Corona',\n",
       "       'Jesus Gallardo', 'Joakim Maehle', 'Joe Bryan', 'Joe Gomez',\n",
       "       'Joe Worrall', 'Joel Veltman', 'John Anthony Brooks', 'Jonas Toro',\n",
       "       'Jonathan David', 'Jonathan Gonzalez', 'Jonathan Kodjia',\n",
       "       'Jonny Otto', 'Jordan Hugill', 'Jordan Torunarigha',\n",
       "       'Jordy Clasie', 'Jorrit Hendrix', 'Jose Salomon Rondon', 'Josef',\n",
       "       'Josef Martinez', 'Josh Murphy', 'Joshua Kimmich', 'Juan Bernat',\n",
       "       'Juan Foyth', 'Juan Miranda', 'Juan Quintero', 'Julian Alvarez',\n",
       "       'Julian Weigl', 'Justin Kluivert', 'Kaan Ayhan', 'Kalvin Phillips',\n",
       "       'Kang in Lee', 'Karim Rekik', 'Kasim Adams', 'Kasper Dolberg',\n",
       "       'Keita Balde', 'Kenneth Zohore', 'Kevin Ruegg', 'Kingsley Coman',\n",
       "       'Konstantinos Laifis', 'Konstantinos Manolas',\n",
       "       'Konstantinos Mitroglou', 'Lautaro Martinez', 'Leander Dendoncker',\n",
       "       'Leo Santos', 'Leonardo Balerdi', 'Liam Moore',\n",
       "       'Lisandro Martinez', 'Ljubomir Fejsa', 'Luca Waldschmidt',\n",
       "       'Lucas Martinez', 'Lucas Pratto', 'Lucas Torro', 'Luciano Acosta',\n",
       "       'Luuk de Jong', \"M'Baye Niang\", 'Mady Camara', 'Mahmoud Dahoud',\n",
       "       'Manor Solomon', 'Manu Vallejo', 'Marc Cucurella',\n",
       "       'Marcelo Saracchi', 'Marco Reus', 'Marco van Ginkel',\n",
       "       'Mariano Diaz', 'Mario Gotze', 'Marko Rog', 'Marlos',\n",
       "       'Martin Odegaard', 'Marvelous Nakamba', 'Marvin Plattenhardt',\n",
       "       'Mason Mount', 'Matej Vydra', 'Mateus Uribe', 'Matias Vargas',\n",
       "       'Matias Zaracho', 'Mats Hummels', 'Matt Doherty',\n",
       "       'Matthijs de Ligt', 'Max Aarons', 'Maximilian Mittelstadt',\n",
       "       'Maximilian Philipp', 'Maximiliano Gomez', 'Maximiliano Romero',\n",
       "       'Mbwana Samatta', 'Miguel Almiron', 'Miha Zajc', 'Mitchell Weiser',\n",
       "       'Mohammed Ihattaren', 'Moussa Djenepo', \"N'Golo Kante\",\n",
       "       'Neal Maupay', 'Nestor Araujo', 'Nicolai Jorgensen',\n",
       "       'Nicolas Blandi', 'Nicolas Castillo', 'Nicolas Dominguez',\n",
       "       'Nicolas Gonzalez', \"Nicolas N'Koulou\", 'Nicolo Zaniolo',\n",
       "       'Niklas Stark', 'Niklas Sule', 'Noah Okafor', 'Odil Akhmedov',\n",
       "       'Ola Aina', 'Ollie Watkins', 'Omar Al Soma', 'Omar Colley',\n",
       "       'Ondrej Duda', 'Orbelin Pineda', 'Oscar Rodriguez',\n",
       "       'Oscar de Marcos', 'Ozan Kabak', 'Pape Abou Cisse', 'Pape Cheikh',\n",
       "       'Papu Gomez', 'Patrick Bamford', 'Paulo Diaz', 'Pedro De La Vega',\n",
       "       'Pedro Porro', 'Peru Nolaskoain', 'Philippe Coutinho',\n",
       "       'Pierre Kunde Malong', 'Pontus Jansson', 'Prince Gouano',\n",
       "       'Rabbi Matondo', 'Rade Krunic', 'Rafa Silva', 'Ramires',\n",
       "       'Raphael Guerreiro', 'Raul Ruidiaz', 'Raul de Tomas',\n",
       "       'Razvan Marin', 'Renzo Saravia', 'Ridgeciano Haps', 'Ritsu Doan',\n",
       "       'Robert Lewandowski', 'Robert Snodgrass', 'Rodolfo Pizarro',\n",
       "       'Rogelio Funes Mori', 'Ruben Alcaraz', 'Ruben Neves',\n",
       "       'Ruben Vinagre', 'Ruslan Malinovskyi', 'Ruud Vormer',\n",
       "       'Ryan Bennett', 'Ryan Gravenberch', 'Ryan Sessegnon',\n",
       "       'Samuel Chukwueze', 'Samuel Gigot', 'Samuel Kalu', 'Sander Berge',\n",
       "       'Sandro Tonali', 'Santiago Arias', 'Santiago Caseres',\n",
       "       'Santos Borre', 'Sean Morrison', 'Sebastian Giovinco',\n",
       "       'Sebastian Rudy', 'Sebastian Szymanski', 'Sergi Palencia',\n",
       "       'Sergio Reguilon', 'Shinji Kagawa', 'Sofiane Diop', 'Sokratis',\n",
       "       'Solomon Kvirkvelia', \"Stanley N'Soki\", 'Stefano Denswil',\n",
       "       'Steven Berghuis', 'Steven Bergwijn', 'Steven Nzonzi',\n",
       "       'Sung yong Ki', 'Taison', 'Takehiro Tomiyasu', 'Talisca',\n",
       "       'Tanguy Ndombele', 'Taras Stepanenko', 'Tete', 'Thiago Almada',\n",
       "       'Thomas', 'Thomas Foket', 'Thomas Muller',\n",
       "       'Timothee Kolodziejczak', 'Tom Cairney', 'Toni Villa',\n",
       "       'Tonny Vilhena', 'Tyler Adams', 'Uros Spajic', 'Valentino Lazaro',\n",
       "       'Victor Davila', 'Victor Guzman', 'Viktor Tsyhankov', 'Wesley',\n",
       "       'William Saliba', 'Willy Boly', 'Wout Weghorst', 'Xadas',\n",
       "       \"Yann M'Vila\", 'Yaroslav Rakytskyi', 'Yevhen Konoplianka',\n",
       "       'Youcef Atal', 'Youssouf Fofana', 'Yuri Berchiche',\n",
       "       'Zakaria Labyad', 'Zeki Celik', 'Zinho Vanheusden'], dtype=object)"
      ]
     },
     "execution_count": 152,
     "metadata": {},
     "output_type": "execute_result"
    }
   ],
   "source": [
    "not_in_whoscored"
   ]
  },
  {
   "cell_type": "code",
   "execution_count": 163,
   "metadata": {},
   "outputs": [],
   "source": [
    "to_get_manually = ['Arturo Vidal', 'Christian Pulisic',  'David Alaba',\\\n",
    "                  'Frenkie de Jong', 'Heung min Son', 'Jadon Sancho', 'James Rodriguez', 'Javi Martinez','Jerome Boateng',\\\n",
    "                  'Joshua Kimmich', 'Kingsley Coman','Marco Reus', \\\n",
    "                  'Matthijs de Ligt', \"N'Golo Kante\", 'Philippe Coutinho', 'Robert Lewandowski', 'Thomas Muller', \\\n",
    "                  ]"
   ]
  },
  {
   "cell_type": "code",
   "execution_count": 186,
   "metadata": {},
   "outputs": [],
   "source": [
    "links = ['/Players/25008/Show/Arturo-Vidal', '/Players/302692/Show/Christian-Pulisic', \\\n",
    "'/Players/39722/Show/David-Alaba', '/Players/279423/Show/Frenkie-de-Jong', '/Players/91909/Show/Son-Heung-Min', \\\n",
    "'/Players/346300/Show/Jadon-Sancho', '/Players/71182/Show/James-Rodríguez', '/Players/14091/Show/Javi-Martínez', \\\n",
    "'/Players/23589/Show/Jérôme-Boateng','/Players/283323/Show/Joshua-Kimmich', '/Players/125883/Show/Kingsley-Coman', \\\n",
    "'/Players/41330/Show/Marco-Reus', '/Players/320374/Show/Matthijs-de-Ligt', '/Players/114075/Show/N-Golo-Kanté', \\\n",
    "'/Players/80767/Show/Coutinho', '/Players/29400/Show/Robert-Lewandowski', \\\n",
    "'/Players/37099/Show/Thomas-Müller']"
   ]
  },
  {
   "cell_type": "code",
   "execution_count": 205,
   "metadata": {},
   "outputs": [],
   "source": [
    "newlinks = []\n",
    "for i in links:\n",
    "    newlinks.append(\n",
    "    (\"{'\" + i + \": \" + '\"[' + \"'\" + i.split('Show/')[1].replace(\"-\", \" \") + \"-current'\") \n",
    "    )"
   ]
  },
  {
   "cell_type": "code",
   "execution_count": 208,
   "metadata": {},
   "outputs": [],
   "source": [
    "whoscored_test.drop('0', axis = 1, inplace = True)"
   ]
  },
  {
   "cell_type": "code",
   "execution_count": 210,
   "metadata": {},
   "outputs": [],
   "source": [
    "to_append = []\n",
    "for i in range(len(newlinks)):\n",
    "    to_append.append([newlinks[i],to_get_manually[i]])"
   ]
  },
  {
   "cell_type": "code",
   "execution_count": 213,
   "metadata": {},
   "outputs": [],
   "source": [
    "whoscored_test = whoscored_test.append(pd.DataFrame(to_append, columns=['Player','Name']),ignore_index=True)"
   ]
  },
  {
   "cell_type": "code",
   "execution_count": 225,
   "metadata": {},
   "outputs": [],
   "source": [
    "whoscored_test['Player'] = whoscored_test['Player'].apply(lambda row: row.split(\":\")[0][2:])"
   ]
  },
  {
   "cell_type": "code",
   "execution_count": 229,
   "metadata": {},
   "outputs": [],
   "source": [
    "whoscored_test['Player'] = whoscored_test['Player'].apply(lambda row: row[:-1] if row[-1] == \"'\" else row)"
   ]
  },
  {
   "cell_type": "code",
   "execution_count": 236,
   "metadata": {},
   "outputs": [],
   "source": [
    "with open('whoscored_urls_narrow.txt', 'w') as f:\n",
    "    for item in list(whoscored_test['Player']):\n",
    "        f.write(\"%s\\n\" % item)"
   ]
  },
  {
   "cell_type": "code",
   "execution_count": 243,
   "metadata": {},
   "outputs": [],
   "source": [
    "whoscored_test.to_pickle('whoscored_urls_transfermarkt_names.pkl')"
   ]
  },
  {
   "cell_type": "code",
   "execution_count": null,
   "metadata": {},
   "outputs": [],
   "source": []
  }
 ],
 "metadata": {
  "kernelspec": {
   "display_name": "Python 3",
   "language": "python",
   "name": "python3"
  },
  "language_info": {
   "codemirror_mode": {
    "name": "ipython",
    "version": 3
   },
   "file_extension": ".py",
   "mimetype": "text/x-python",
   "name": "python",
   "nbconvert_exporter": "python",
   "pygments_lexer": "ipython3",
   "version": "3.6.8"
  }
 },
 "nbformat": 4,
 "nbformat_minor": 2
}
