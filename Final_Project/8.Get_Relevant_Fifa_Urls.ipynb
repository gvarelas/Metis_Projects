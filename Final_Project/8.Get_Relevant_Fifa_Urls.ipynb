{
 "cells": [
  {
   "cell_type": "markdown",
   "metadata": {},
   "source": [
    "Extract FIFA urls of relevant players so we can scrape other attributes for the analysis"
   ]
  },
  {
   "cell_type": "code",
   "execution_count": 16,
   "metadata": {},
   "outputs": [],
   "source": [
    "import pandas as pd\n",
    "import unidecode"
   ]
  },
  {
   "cell_type": "code",
   "execution_count": 2,
   "metadata": {},
   "outputs": [],
   "source": [
    "fifa_17_names = pd.read_csv(\"/Users/georgevarelas/Metis/Final Project/Fifa_Datasets/Fifa_17_names.csv\")\n",
    "fifa_17 = pd.read_csv('/Users/georgevarelas/Metis/Final Project/Fifa_Datasets/Fifa_17.csv')\n",
    "df = pd.read_pickle('/Users/georgevarelas/Downloads/scraper-whoscored-master MAIN/TRANSFERMARKT_WHOSCORED_MERGE.pkl')"
   ]
  },
  {
   "cell_type": "code",
   "execution_count": 70,
   "metadata": {},
   "outputs": [],
   "source": [
    "fifa_17 = pd.merge(fifa_17, fifa_17_names, on = ['Name'])\n",
    "fifa_17 = fifa_17[['Name', 'Age','Club', 'url']]\n",
    "fifa_17['Name'] = fifa_17['Name'].apply(lambda row: unidecode.unidecode(row).replace(\"-\", \" \"))\n",
    "fifa_17['Age'] = fifa_17['Age'].apply(lambda row: float(row))"
   ]
  },
  {
   "cell_type": "code",
   "execution_count": 75,
   "metadata": {},
   "outputs": [],
   "source": [
    "df['Age'] = df['Age'].apply(lambda row: float(row))\n",
    "df = df.groupby(['Name', 'Season'])[['Age']].mean().reset_index()"
   ]
  },
  {
   "cell_type": "code",
   "execution_count": null,
   "metadata": {},
   "outputs": [],
   "source": [
    "not_in_17 = []\n",
    "for i in df['Name'].unique():\n",
    "    if i not in fifa_17['Name'].unique():\n",
    "        if i.split(' ')[-1] in fifa_17['LastName'].unique():\n",
    "            lastname_in_17.append(i)\n",
    "        else:\n",
    "            not_in_17.append(i)\n"
   ]
  },
  {
   "cell_type": "code",
   "execution_count": 78,
   "metadata": {},
   "outputs": [],
   "source": [
    "def extract_last_name(row):\n",
    "    if len(row.split(' ')) == 1:\n",
    "        return (row)\n",
    "    else:\n",
    "        return row.split(' ')[-1]"
   ]
  },
  {
   "cell_type": "code",
   "execution_count": 92,
   "metadata": {},
   "outputs": [],
   "source": [
    "not_in_17 = []\n",
    "for i in df['Name'].unique():\n",
    "    if i not in fifa_17['Name'].unique():\n",
    "            not_in_17.append(i)"
   ]
  },
  {
   "cell_type": "code",
   "execution_count": 96,
   "metadata": {},
   "outputs": [
    {
     "data": {
      "text/plain": [
       "1103"
      ]
     },
     "execution_count": 96,
     "metadata": {},
     "output_type": "execute_result"
    }
   ],
   "source": [
    "len(df['Name'].unique())"
   ]
  },
  {
   "cell_type": "code",
   "execution_count": 103,
   "metadata": {},
   "outputs": [
    {
     "data": {
      "text/plain": [
       "158"
      ]
     },
     "execution_count": 103,
     "metadata": {},
     "output_type": "execute_result"
    }
   ],
   "source": [
    "len(not_in_17)"
   ]
  },
  {
   "cell_type": "code",
   "execution_count": 104,
   "metadata": {},
   "outputs": [],
   "source": [
    "fifa_17 = fifa_17[['Name', 'url']][fifa_17['Name'].isin(df['Name'].unique())].drop_duplicates()"
   ]
  },
  {
   "cell_type": "code",
   "execution_count": 118,
   "metadata": {},
   "outputs": [],
   "source": [
    "name = ['Alvaro Morata', 'Andres Iniesta', 'Callum Hudson Odoi', 'Cesar Azpilicueta', 'Daniel Carvajal', 'Gerard Pique', \\\n",
    "       'Heung min Son', 'Jadon Sancho', 'Mousa Dembele', 'Philippe Coutinho', 'Saul Niguez', 'Victor Lindelof', \\\n",
    "       'Vinicius Junior', 'Alexandre Pato', 'Arthur', 'Chicharito', 'Hulk', 'Kylian Mbappe', 'Lucas Moura', \\\n",
    "       'Scott McTominay', 'Timothy Weah' ]\n",
    "\n",
    "url_old = ['https://www.fifaindex.com/player/201153/morata/', 'https://www.fifaindex.com/player/41/iniesta/', 'https://www.fifaindex.com/player/240740/callum-hudson-odoi/', \\\n",
    "      'https://www.fifaindex.com/player/184432/azpilicueta/', 'https://www.fifaindex.com/player/204963/carvajal/', 'https://www.fifaindex.com/player/152729/piqu%C3%A9/', \\\n",
    "      'https://www.fifaindex.com/player/200104/heung-min-son/', 'https://www.fifaindex.com/player/233049/jadon-sancho/', 'https://www.fifaindex.com/player/162240/moussa-demb%C3%A9l%C3%A9/', \\\n",
    "      'https://www.fifaindex.com/player/189242/coutinho/', 'https://www.fifaindex.com/player/208421/sa%C3%BAl/', \\\n",
    "      'https://www.fifaindex.com/player/221660/victor-lindel%C3%B6f/', 'https://www.fifaindex.com/player/238794/vin%C3%ADcius-j%C3%BAnior/', \\\n",
    "      'https://www.fifaindex.com/player/180175/alexandre-pato/fifa19_326/', 'https://www.fifaindex.com/player/230658/arthur/', \\\n",
    "      'https://www.fifaindex.com/player/178224/javier-hern%C3%A1ndez/', 'https://www.fifaindex.com/player/189362/hulk/',  \\\n",
    "      'https://www.fifaindex.com/player/231747/kylian-mbapp%C3%A9/', 'https://www.fifaindex.com/player/200949/lucas-moura/', \\\n",
    "       'https://www.fifaindex.com/player/237238/scott-mctominay/', 'https://www.fifaindex.com/player/241496/timothy-weah/' \n",
    "      ]\n",
    "url = [i.split('.com')[1] for i in url_old]"
   ]
  },
  {
   "cell_type": "code",
   "execution_count": 120,
   "metadata": {},
   "outputs": [],
   "source": [
    "add_to_17 = pd.DataFrame()\n",
    "add_to_17['Name'] = name\n",
    "add_to_17['url'] = url"
   ]
  },
  {
   "cell_type": "code",
   "execution_count": 114,
   "metadata": {},
   "outputs": [],
   "source": [
    "fifa_17 = fifa_17.reset_index().drop('index', axis = 1)\n",
    "fifa_17 = fifa_17.append(add_to_17, ignore_index=True)"
   ]
  },
  {
   "cell_type": "code",
   "execution_count": 126,
   "metadata": {},
   "outputs": [],
   "source": [
    "fifa_17.to_csv('Relevant_Fifa_Urls')"
   ]
  },
  {
   "cell_type": "code",
   "execution_count": 106,
   "metadata": {},
   "outputs": [],
   "source": [
    "lastname_in = ['Aaron Wan Bissaka',\n",
    " 'Agustin Almendra',\n",
    " 'Alexandre Pato',\n",
    " 'Andrew Gravillon',\n",
    " 'Arthur',\n",
    " 'Bruno Guimaraes',\n",
    " 'Chicharito',\n",
    " 'Domagoj Vida',\n",
    " 'Eder Militao',\n",
    " 'Eljif Elmas',\n",
    " 'Elvis Rexhbecaj',\n",
    " 'Enis Bardhi',\n",
    " 'Enzo Loiodice',\n",
    " 'Eran Zahavi',\n",
    " 'Erling Braut Haland',\n",
    " 'Ethan Ampadu',\n",
    " 'Everton',\n",
    " 'Fabian Balbuena',\n",
    " 'Fabio Depaoli',\n",
    " 'Fagner',\n",
    " 'Felix Eboa Eboa',\n",
    " 'Gabriel Paulista',\n",
    " 'Gervinho',\n",
    " 'Giorgian de Arrascaeta',\n",
    " 'Gonzalo Maroni',\n",
    " 'Hakan Calhanoglu',\n",
    " 'Hulk',\n",
    " 'Jordan Siebatcheu',\n",
    " 'Juan Cazares',\n",
    " 'Jules Kounde',\n",
    " 'Junior Firpo',\n",
    " 'Kelvin Amian',\n",
    " 'Keno',\n",
    " 'Kylian Mbappe',\n",
    " 'Leo Jaba',\n",
    " 'Leonardo Koutris',\n",
    " 'Lincoln',\n",
    " 'Linton Maina',\n",
    " 'Loren Moron',\n",
    " 'Luan',\n",
    " 'Lucas Moura',\n",
    " 'Lucas Paqueta',\n",
    " 'Lucas Verissimo',\n",
    " 'Marco Richter',\n",
    " 'Marin Pongracic',\n",
    " 'Mario Hermoso',\n",
    " 'Martin Aguirregabiria',\n",
    " 'Maycon',\n",
    " 'Nahitan Nandez',\n",
    " 'Nemanja Gudelj',\n",
    " 'Nikola Milenkovic',\n",
    " 'Nikola Vlasic',\n",
    " 'Noussair Mazraoui',\n",
    " 'Odion Ighalo',\n",
    " 'Pietro Pellegri',\n",
    " 'Ramon Abila',\n",
    " 'Ricardo Goulart',\n",
    " 'Richarlison',\n",
    " 'Rodrigo Becao',\n",
    " 'Rodrygo',\n",
    " 'Roger Marti',\n",
    " 'Rogerio',\n",
    " 'Scott McTominay',\n",
    " 'Timothy Weah',\n",
    " 'Tomas Chancalay',\n",
    " 'Trezeguet',\n",
    " 'Vitor Hugo',\n",
    " 'Walter Kannemann',\n",
    " 'Wendel',\n",
    " 'Weston McKennie',\n",
    " 'Willem Geubbels',\n",
    " 'Yacine Adli']\n",
    "\n",
    "not_in = ['Alejandro Grimaldo',\n",
    " 'Aleksandr Erokhin',\n",
    " 'Aleksandr Golovin',\n",
    " 'Aleksandr Kokorin',\n",
    " 'Aleksey Miranchuk',\n",
    " 'Alex Granell',\n",
    " 'Alex Teixeira',\n",
    " 'Alvaro Gonzalez',\n",
    " 'Alvaro Morata',\n",
    " 'Alvaro Odriozola',\n",
    " 'Amadou Haidara',\n",
    " 'Andres Iniesta',\n",
    " 'Asier Illarramendi',\n",
    " 'Ayrton Lucas',\n",
    " 'Boubakary Soumare',\n",
    " 'Brais Mendez',\n",
    " 'Callum Hudson Odoi',\n",
    " 'Cedric Soares',\n",
    " 'Cesar Azpilicueta',\n",
    " 'Cristhian Stuani',\n",
    " 'Daniel Carvajal',\n",
    " 'Didac Vila',\n",
    " 'Dyego Sousa',\n",
    " 'Everton Ribeiro',\n",
    " 'Fabian Ruiz',\n",
    " 'Federico Valverde',\n",
    " 'Franck Kessie',\n",
    " 'Gabriel Boschilia',\n",
    " 'Gerard Deulofeu',\n",
    " 'Gerard Pique',\n",
    " 'Heung min Son',\n",
    " 'Ibrahima Konate',\n",
    " 'Igor Zubeldia',\n",
    " 'Iker Muniain',\n",
    " 'Inaki Williams',\n",
    " 'Ivan Marcano',\n",
    " 'Jadon Sancho',\n",
    " 'Javier Manquillo',\n",
    " 'Jesus Vallejo',\n",
    " 'Jose Campana',\n",
    " 'Jose Gaya',\n",
    " 'Jose Gimenez',\n",
    " 'Jose Luis Morales',\n",
    " 'Jose Luis Palomino',\n",
    " 'Joseba Zaldua',\n",
    " 'Luiz Araujo',\n",
    " 'Marc Bartra',\n",
    " 'Markel Susaeta',\n",
    " 'Martin Montoya',\n",
    " 'Mbaye Diagne',\n",
    " 'Mikel Oyarzabal',\n",
    " 'Mousa Dembele',\n",
    " 'Moussa Diaby',\n",
    " 'Munir El Haddadi',\n",
    " 'Musa Barrow',\n",
    " 'Nemanja Maksimovic',\n",
    " 'Oghenekaro Etebo',\n",
    " 'Ole Selnaes',\n",
    " 'Orel Mangala',\n",
    " 'Phil Foden',\n",
    " 'Philippe Coutinho',\n",
    " 'Rafael Leao',\n",
    " 'Raul Silva',\n",
    " 'Reiss Nelson',\n",
    " 'Rodrigo Caio',\n",
    " 'Rodrigo Dourado',\n",
    " 'Rodrigo de Paul',\n",
    " 'Roger Guedes',\n",
    " 'Rony Lopes',\n",
    " 'Ruben Dias',\n",
    " 'Sandro Ramirez',\n",
    " 'Saul Niguez',\n",
    " 'Sergio Canales',\n",
    " 'Thiago Mendes',\n",
    " 'Tiquinho Soares',\n",
    " 'Toni Lato',\n",
    " 'Unai Nunez',\n",
    " 'Vicente Iborra',\n",
    " 'Victor Camarasa',\n",
    " 'Victor Laguardia',\n",
    " 'Victor Lindelof',\n",
    " 'Vinicius Junior',\n",
    " 'Wilfred Ndidi',\n",
    " 'Yeray Alvarez',\n",
    " 'Yerry Mina',\n",
    " 'Yuri Gazinskiy']"
   ]
  },
  {
   "cell_type": "code",
   "execution_count": null,
   "metadata": {},
   "outputs": [],
   "source": []
  }
 ],
 "metadata": {
  "kernelspec": {
   "display_name": "Python 3",
   "language": "python",
   "name": "python3"
  },
  "language_info": {
   "codemirror_mode": {
    "name": "ipython",
    "version": 3
   },
   "file_extension": ".py",
   "mimetype": "text/x-python",
   "name": "python",
   "nbconvert_exporter": "python",
   "pygments_lexer": "ipython3",
   "version": "3.6.8"
  }
 },
 "nbformat": 4,
 "nbformat_minor": 2
}
