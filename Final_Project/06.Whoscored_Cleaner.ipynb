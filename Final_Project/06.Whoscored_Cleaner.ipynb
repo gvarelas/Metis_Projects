{
 "cells": [
  {
   "cell_type": "code",
   "execution_count": 93,
   "metadata": {},
   "outputs": [],
   "source": [
    "import pandas as pd\n",
    "import numpy as np"
   ]
  },
  {
   "cell_type": "code",
   "execution_count": 2,
   "metadata": {},
   "outputs": [],
   "source": [
    "dirty = pd.read_csv('/Users/georgevarelas/Downloads/scraper-whoscored-master MAIN/players_historical_data/players_historical_data.csv')"
   ]
  },
  {
   "cell_type": "code",
   "execution_count": 10,
   "metadata": {},
   "outputs": [],
   "source": [
    "for index, row in dirty.iterrows():\n",
    "    if index%2 == 0:\n",
    "        names.append(row)"
   ]
  },
  {
   "cell_type": "code",
   "execution_count": 14,
   "metadata": {},
   "outputs": [],
   "source": [
    "names = dirty.iloc[::2]"
   ]
  },
  {
   "cell_type": "code",
   "execution_count": 16,
   "metadata": {},
   "outputs": [],
   "source": [
    "values = dirty.iloc[1::2]"
   ]
  },
  {
   "cell_type": "code",
   "execution_count": 18,
   "metadata": {},
   "outputs": [],
   "source": [
    "values = values.rename(columns={'Player Name': 'Season'})"
   ]
  },
  {
   "cell_type": "code",
   "execution_count": 53,
   "metadata": {},
   "outputs": [],
   "source": [
    "#Seasons were stored as ratios in the csv file, need to convert back to interpretable numbers\n",
    "d = {}\n",
    "for i in range(2009, 2019):\n",
    "    d[str(-i/(i+1))[:-7]] = str(i)"
   ]
  },
  {
   "cell_type": "code",
   "execution_count": 82,
   "metadata": {},
   "outputs": [],
   "source": [
    "for i in range(2009, 2019):\n",
    "    d[str(round(-i/(i+1), 9))] = str(i) "
   ]
  },
  {
   "cell_type": "code",
   "execution_count": 83,
   "metadata": {},
   "outputs": [],
   "source": [
    "newvals = []\n",
    "for i in values['Season']:\n",
    "    if abs(float(i)) < 1:\n",
    "        newvals.append(d[i])\n",
    "    else:\n",
    "        newvals.append(i)"
   ]
  },
  {
   "cell_type": "code",
   "execution_count": 91,
   "metadata": {},
   "outputs": [],
   "source": [
    "values.reset_index(inplace = True)"
   ]
  },
  {
   "cell_type": "code",
   "execution_count": 94,
   "metadata": {},
   "outputs": [],
   "source": [
    "Season_1 = np.asarray(newvals)\n",
    "values[\"Season\"] = Season_1\n",
    "values.drop('index', axis = 1, inplace = True)\n",
    "values['Season'] = values['Season'].apply(lambda row: abs(int(row)))"
   ]
  },
  {
   "cell_type": "code",
   "execution_count": 108,
   "metadata": {},
   "outputs": [],
   "source": [
    "names.reset_index(inplace = True)\n",
    "values['Player Name'] = names['Player Name']"
   ]
  },
  {
   "cell_type": "code",
   "execution_count": 113,
   "metadata": {},
   "outputs": [],
   "source": [
    "cols = values.columns.tolist()\n",
    "cols = cols[-1:] + cols[:-1]\n",
    "values = values[cols]"
   ]
  },
  {
   "cell_type": "code",
   "execution_count": 125,
   "metadata": {},
   "outputs": [],
   "source": [
    "numerical_cols = ['Goals/90min',\n",
    "       'Assists/90min', 'Yel/90min', 'Red/90min', 'SpG', 'PS%', 'Rating',\n",
    "       'Tackles', 'Inter', 'Fouls (def)', 'Offsides', 'Clear', 'DrB (def)',\n",
    "       'Blocks', 'DrB (off)', 'Fouled (off)', 'Off (off)', 'Disp (off)',\n",
    "       'KeyP', 'AvgP', 'Crosses', 'LongB', 'ThrB', 'OutOfBox', 'SixYardBox',\n",
    "       'PenaltyArea']\n",
    "\n",
    "for i in numerical_cols:\n",
    "    values[i] = values[i].replace('Undefined', 0)"
   ]
  },
  {
   "cell_type": "code",
   "execution_count": 140,
   "metadata": {},
   "outputs": [],
   "source": [
    "values = values[['Player Name', 'Season', 'Team', 'Tournament', 'Goals/90min',\n",
    "       'Assists/90min', 'Yel/90min', 'Red/90min', 'SpG', 'PS%', 'Rating',\n",
    "       'Tackles', 'Inter', 'Fouls (def)', 'Offsides', 'Clear', 'DrB (def)',\n",
    "       'Blocks', 'DrB (off)', 'Fouled (off)', 'Off (off)', 'Disp (off)',\n",
    "       'KeyP', 'AvgP', 'Crosses', 'LongB', 'ThrB', 'OutOfBox', 'SixYardBox',\n",
    "       'PenaltyArea']]"
   ]
  },
  {
   "cell_type": "code",
   "execution_count": 172,
   "metadata": {},
   "outputs": [],
   "source": [
    "urls = pd.read_csv('/Users/georgevarelas/Downloads/scraper-whoscored-master MAIN/players_historical_data/historical_data_urls.rtf', header = 0)"
   ]
  },
  {
   "cell_type": "code",
   "execution_count": 174,
   "metadata": {},
   "outputs": [],
   "source": [
    "urls = urls[6:]\n",
    "urls = urls.iloc[1::2]"
   ]
  },
  {
   "cell_type": "code",
   "execution_count": 185,
   "metadata": {},
   "outputs": [],
   "source": [
    "urls.reset_index(inplace = True)\n",
    "urls.drop('index', axis = 1, inplace = True)"
   ]
  },
  {
   "cell_type": "code",
   "execution_count": 197,
   "metadata": {},
   "outputs": [],
   "source": [
    "urls['URL'] = urls['URL'].apply(lambda row: 'Show'.join(row.split('History')))\n",
    "values['URL'] = urls['URL']"
   ]
  },
  {
   "cell_type": "code",
   "execution_count": 201,
   "metadata": {},
   "outputs": [],
   "source": [
    "values.to_pickle('Whoscored_Historicals.pkl')"
   ]
  }
 ],
 "metadata": {
  "kernelspec": {
   "display_name": "Python 3",
   "language": "python",
   "name": "python3"
  },
  "language_info": {
   "codemirror_mode": {
    "name": "ipython",
    "version": 3
   },
   "file_extension": ".py",
   "mimetype": "text/x-python",
   "name": "python",
   "nbconvert_exporter": "python",
   "pygments_lexer": "ipython3",
   "version": "3.6.8"
  }
 },
 "nbformat": 4,
 "nbformat_minor": 2
}
