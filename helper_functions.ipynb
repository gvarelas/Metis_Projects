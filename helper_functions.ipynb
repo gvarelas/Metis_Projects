{
 "cells": [
  {
   "cell_type": "code",
   "execution_count": 3,
   "metadata": {},
   "outputs": [],
   "source": [
    "from unidecode import unidecode\n",
    "from urllib.parse import unquote"
   ]
  },
  {
   "cell_type": "code",
   "execution_count": 4,
   "metadata": {},
   "outputs": [],
   "source": [
    "def save_to_file(dataset, file_path):\n",
    "    \"\"\"\n",
    "    Function to save a list of urls into a txt file\n",
    "    \"\"\"\n",
    "    with open(file_path, 'w') as f:\n",
    "        for item in dataset:\n",
    "            processed = process_info(item)\n",
    "            f.write(processed+'\\n')\n",
    "            \n",
    "def populate_countries_dict(file_path):\n",
    "    \"\"\"\n",
    "    Function to populate dictionary of countries and url numbers.\n",
    "    \"\"\"\n",
    "    \n",
    "    countries_dict = {}\n",
    "    \n",
    "    with open(file_path, 'r') as f:\n",
    "        for line in f.readlines():\n",
    "            key_value = line[:-1].split(':')\n",
    "            countries_dict[key_value[0]] = int(key_value[1])\n",
    "        \n",
    "    return countries_dict\n",
    "\n",
    "def read_from_file(file_path):\n",
    "    \"\"\"\n",
    "    Read a file and return a list with all the lines in the file\n",
    "    \"\"\"\n",
    "    \n",
    "    file_in_list = []\n",
    "    \n",
    "    with open(file_path, 'r') as f:\n",
    "        for line in f.readlines():\n",
    "            file_in_list.append(line)\n",
    "            \n",
    "    return file_in_list\n",
    "\n",
    "def append_to_tsv(player, file_path):\n",
    "    \"\"\"\n",
    "    Function to append new data into a tsv file\n",
    "    \"\"\"\n",
    "    with open(file_path, 'a') as f:\n",
    "        f.write('\\t'.join(player)+'\\n')\n",
    "\n",
    "def append_to_csv(player, file_path):\n",
    "    \"\"\"\n",
    "    Function to append new data into a tsv file\n",
    "    \"\"\"\n",
    "    with open(file_path, 'a') as f:\n",
    "        f.write(player+'\\n')\n",
    "        \n",
    "def append_to_file(line, file_path):\n",
    "    \"\"\"\n",
    "    Function to append new data into file\n",
    "    \"\"\"\n",
    "    with open(file_path, 'a') as f:\n",
    "        f.write(line+'\\n')\n",
    "\n",
    "def process_info(info):\n",
    "    try:\n",
    "        processed = unquote(info)\n",
    "    except:\n",
    "        processed = info\n",
    "        pass\n",
    "    if isinstance(processed, str):\n",
    "        processed = unidecode(processed)\n",
    "        \n",
    "    return processed"
   ]
  },
  {
   "cell_type": "code",
   "execution_count": null,
   "metadata": {},
   "outputs": [],
   "source": []
  }
 ],
 "metadata": {
  "kernelspec": {
   "display_name": "Python 3",
   "language": "python",
   "name": "python3"
  },
  "language_info": {
   "codemirror_mode": {
    "name": "ipython",
    "version": 3
   },
   "file_extension": ".py",
   "mimetype": "text/x-python",
   "name": "python",
   "nbconvert_exporter": "python",
   "pygments_lexer": "ipython3",
   "version": "3.6.8"
  }
 },
 "nbformat": 4,
 "nbformat_minor": 2
}
