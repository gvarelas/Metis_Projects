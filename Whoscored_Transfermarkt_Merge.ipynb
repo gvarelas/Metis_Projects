{
 "cells": [
  {
   "cell_type": "code",
   "execution_count": 1,
   "metadata": {},
   "outputs": [],
   "source": [
    "import pandas as pd\n",
    "import unidecode\n",
    "from functools import reduce\n",
    "import pickle\n",
    "\n",
    "from collections import defaultdict\n",
    "from statistics import mean, median"
   ]
  },
  {
   "cell_type": "code",
   "execution_count": 2,
   "metadata": {},
   "outputs": [],
   "source": [
    "whoscored = pd.read_pickle('Whoscored_Historicals.pkl')\n",
    "transfermarkt = pd.read_pickle(\"/Users/georgevarelas/Luther/Players_Historicals_With_Injuries.pkl\")\n",
    "whoscored_urls = pd.read_pickle('/Users/georgevarelas/Luther/whoscored_urls_transfermarkt_names')"
   ]
  },
  {
   "cell_type": "code",
   "execution_count": 164,
   "metadata": {},
   "outputs": [],
   "source": [
    "transfermarkt = transfermarkt[transfermarkt['Name'].isin(whoscored_urls['Name'].unique())]\n",
    "whoscored_urls = whoscored_urls.rename(index=str, columns={\"Player\": \"URL\"})"
   ]
  },
  {
   "cell_type": "code",
   "execution_count": 28,
   "metadata": {},
   "outputs": [],
   "source": [
    "def Find_Missing_Vals(l):\n",
    "    return list(set([x for x in l if l.count(x) > 1]))"
   ]
  },
  {
   "cell_type": "code",
   "execution_count": 103,
   "metadata": {},
   "outputs": [],
   "source": [
    "#merge whoscored and whoscored_urls, because whoscored_urls has the correct names\n",
    "whoscored = (pd.merge(whoscored, whoscored_urls, on='URL')).drop_duplicates()\n",
    "whoscored.drop('Player Name', axis = 1, inplace = True)"
   ]
  },
  {
   "cell_type": "code",
   "execution_count": 166,
   "metadata": {},
   "outputs": [
    {
     "data": {
      "text/plain": [
       "['Paulinho',\n",
       " 'Emerson',\n",
       " 'Otavio',\n",
       " 'Rodrigo',\n",
       " 'Fernando',\n",
       " 'Marcelo',\n",
       " 'Danilo',\n",
       " 'Lucas Lima',\n",
       " 'Joao Pedro',\n",
       " 'Pedro']"
      ]
     },
     "execution_count": 166,
     "metadata": {},
     "output_type": "execute_result"
    }
   ],
   "source": [
    "Find_Missing_Vals(list(transfermarkt['Name']))"
   ]
  },
  {
   "cell_type": "code",
   "execution_count": 121,
   "metadata": {},
   "outputs": [],
   "source": [
    "to_drop_transfermarkt_indices = [184, 1393, 909, 97, 471, 1378, 858, 1388, 130, 325]\n",
    "to_drop_whoscored_urls = ['/Players/114197/Show/Paulinho','/Players/122089/Show/Paulinho', '/Players/135563/Show/Paulinho', \n",
    "                          '/Players/15528/Show/Emerson', '/Players/328512/Show/Emerson', '/Players/146764/Show/Otavio',\\\n",
    "                          '/Players/31958/Show/Fernando', '/Players/121767/Show/Marcelo', '/Players/27761/Show/Marcelo',\\\n",
    "                          '/Players/358367/Show/Marcelo', '/Players/77883/Show/Marcelo', '/Players/106873/Show/Danilo', \\\n",
    "                          '/Players/18727/Show/Danilo', '/Players/15906/Show/Danilo', '/Players/294056/Show/Danilo', \\\n",
    "                          '/Players/121494/Show/Joao-Pedro', '/Players/243212/Show/Joao-Pedro', '/Players/318475/Show/Pedro'] "
   ]
  },
  {
   "cell_type": "code",
   "execution_count": 167,
   "metadata": {},
   "outputs": [],
   "source": [
    "transfermarkt = transfermarkt.reset_index()\n",
    "transfermarkt['index'] = transfermarkt['index'].apply(lambda row: int(row))"
   ]
  },
  {
   "cell_type": "code",
   "execution_count": 150,
   "metadata": {},
   "outputs": [],
   "source": [
    "#remove players with same names"
   ]
  },
  {
   "cell_type": "code",
   "execution_count": 171,
   "metadata": {},
   "outputs": [],
   "source": [
    "transfermarkt = transfermarkt[~transfermarkt['index'].isin(to_drop_transfermarkt_indices)]\n",
    "whoscored = whoscored[~whoscored['URL'].isin(to_drop_whoscored_urls)]\n",
    "transfermarkt.drop('index', axis = 1, inplace = True)\n",
    "transfermarkt.drop('Profile_Link', axis = 1, inplace = True)"
   ]
  },
  {
   "cell_type": "code",
   "execution_count": 246,
   "metadata": {},
   "outputs": [],
   "source": [
    "#Convert injury dictionary to list so we can manipulate it easier"
   ]
  },
  {
   "cell_type": "code",
   "execution_count": 282,
   "metadata": {},
   "outputs": [],
   "source": [
    "def transform_injury_history(row):\n",
    "    injuries = defaultdict(int)\n",
    "    for i in row:\n",
    "        if i[4] == '-' or i[4] == '?':\n",
    "            games_missed = 0\n",
    "        else:\n",
    "            games_missed = i[4]\n",
    "        \n",
    "        season = int('20'+ i[0][:2])\n",
    "        injuries[season] += int(games_missed)\n",
    "    return injuries\n",
    "\n",
    "transfermarkt['injuries'] = transfermarkt['Injury_History'].apply(transform_injury_history)"
   ]
  },
  {
   "cell_type": "code",
   "execution_count": 330,
   "metadata": {},
   "outputs": [],
   "source": [
    "#Convert Historical Market Vals dictionary to list"
   ]
  },
  {
   "cell_type": "code",
   "execution_count": 343,
   "metadata": {},
   "outputs": [],
   "source": [
    "def extract_historical_values(row):\n",
    "    historical_values = defaultdict(list)\n",
    "    last_months = ['Jan', 'Feb', 'Mar', 'Apr', 'May', 'Jun']\n",
    "    current_months = ['Jul', 'Aug', 'Sep', 'Oct', 'Nov', 'Dec']\n",
    "    for i in row:\n",
    "        if i[0][:3] in last_months:\n",
    "            season = int(i[0][-4:])-1\n",
    "        elif i[0][:3] in current_months:\n",
    "            season = int(i[0][-4:])\n",
    "        \n",
    "        value = int(i[1])\n",
    "        age = int(i[2])\n",
    "        \n",
    "        historical_values[season].append(value)\n",
    "    \n",
    "    for i in historical_values.keys():\n",
    "        historical_values[i] = int(median(historical_values[i]))\n",
    "    \n",
    "    return historical_values      \n",
    "\n",
    "transfermarkt['Historicals'] = transfermarkt['Historical_Values'].apply(extract_historical_values)"
   ]
  },
  {
   "cell_type": "code",
   "execution_count": 346,
   "metadata": {},
   "outputs": [],
   "source": [
    "#Get Historical Ages"
   ]
  },
  {
   "cell_type": "code",
   "execution_count": 354,
   "metadata": {},
   "outputs": [],
   "source": [
    "def extract_historical_ages(row):\n",
    "    historical_ages = defaultdict(list)\n",
    "    last_months = ['Jan', 'Feb', 'Mar', 'Apr', 'May', 'Jun']\n",
    "    current_months = ['Jul', 'Aug', 'Sep', 'Oct', 'Nov', 'Dec']\n",
    "    for i in row:\n",
    "        if i[0][:3] in last_months:\n",
    "            season = int(i[0][-4:])-1\n",
    "        elif i[0][:3] in current_months:\n",
    "            season = int(i[0][-4:])\n",
    "        \n",
    "        age = int(i[2])\n",
    "        \n",
    "        historical_ages[season].append(age)\n",
    "    \n",
    "    for i in historical_ages.keys():\n",
    "        historical_ages[i] = int(mean(historical_ages[i]))\n",
    "    \n",
    "    return historical_ages\n",
    "\n",
    "transfermarkt['Historical_Ages'] = transfermarkt['Historical_Values'].apply(extract_historical_ages)"
   ]
  },
  {
   "cell_type": "code",
   "execution_count": 368,
   "metadata": {},
   "outputs": [],
   "source": [
    "simple = transfermarkt[['Name', 'Agent','injuries', 'Historicals', 'Historical_Ages']]\n",
    "simple = simple.reset_index()"
   ]
  },
  {
   "cell_type": "code",
   "execution_count": 437,
   "metadata": {},
   "outputs": [],
   "source": [
    "def extract_data(row):\n",
    "    final = pd.DataFrame(columns=['Season','Market_Value','Name','Age','Games_Missed'])\n",
    "    \n",
    "    for i in range(row):\n",
    "        \n",
    "        new = pd.DataFrame(simple['Historicals'][i].items(), columns = ['Season', 'Market_Value'])\n",
    "        new['Name'] = simple['Name'][i]\n",
    "        \n",
    "        ages = pd.DataFrame(simple['Historical_Ages'][i].items(), columns = ['Season', 'Age'])\n",
    "        ages['Name'] = simple['Name'][i]\n",
    "\n",
    "        injuries = pd.DataFrame(simple['injuries'][i].items(), columns = ['Season', 'Games_Missed'])\n",
    "        injuries['Name'] = simple['Name'][i]\n",
    "        \n",
    "        dfs = [new, ages, injuries]\n",
    "        player_df = reduce(lambda left,right: pd.merge(left,right, how = 'outer',on=['Season', 'Name']), dfs)\n",
    "        \n",
    "        final = pd.concat([final, player_df])\n",
    "    \n",
    "    return final"
   ]
  },
  {
   "cell_type": "code",
   "execution_count": 452,
   "metadata": {},
   "outputs": [],
   "source": [
    "final_transfermarkt = extract_data(simple.shape[0])\n",
    "final_transfermarkt.reset_index(inplace = True)\n",
    "final_transfermarkt = final_transfermarkt.drop('index', axis = 1)\n",
    "final_transfermarkt['Games_Missed'].fillna(0, inplace=True)"
   ]
  },
  {
   "cell_type": "code",
   "execution_count": 468,
   "metadata": {},
   "outputs": [],
   "source": [
    "final_transfermarkt.to_pickle('Transfermarkt_Final.pkl')"
   ]
  },
  {
   "cell_type": "code",
   "execution_count": 469,
   "metadata": {},
   "outputs": [],
   "source": [
    "whoscored.to_pickle('WhoScored_Final.pkl')"
   ]
  },
  {
   "cell_type": "code",
   "execution_count": null,
   "metadata": {},
   "outputs": [],
   "source": []
  },
  {
   "cell_type": "code",
   "execution_count": 505,
   "metadata": {},
   "outputs": [],
   "source": [
    "final_transfermarkt = pd.merge(final_transfermarkt, transfermarkt[['Name', 'Position']], on = 'Name') "
   ]
  },
  {
   "cell_type": "code",
   "execution_count": 511,
   "metadata": {},
   "outputs": [],
   "source": [
    "#there are still some duplicate names in whoscored dataframe, need to remove those bitchezb"
   ]
  },
  {
   "cell_type": "code",
   "execution_count": 517,
   "metadata": {},
   "outputs": [],
   "source": [
    "potential_drops = Find_Missing_Vals(list(whoscored_urls['Name'])) "
   ]
  },
  {
   "cell_type": "code",
   "execution_count": 518,
   "metadata": {},
   "outputs": [],
   "source": [
    "already_dropped = ['Paulinho',\n",
    " 'Emerson',\n",
    " 'Otavio',\n",
    " 'Rodrigo',\n",
    " 'Fernando',\n",
    " 'Marcelo',\n",
    " 'Danilo',\n",
    " 'Lucas Lima',\n",
    " 'Joao Pedro',\n",
    " 'Pedro']"
   ]
  },
  {
   "cell_type": "code",
   "execution_count": 519,
   "metadata": {},
   "outputs": [],
   "source": [
    "to_drop = list(set(potential_drops) - set(already_dropped))"
   ]
  },
  {
   "cell_type": "code",
   "execution_count": 614,
   "metadata": {},
   "outputs": [],
   "source": [
    "drop_urls_final = ['/Players/279541/Show/Matheus-Pereira', '/Players/36260/Show/Pedrinho', '/Players/322643/Show/Pedrinho',\\\n",
    "                  '/Players/101463/Show/Gabriel', '/Players/114095/Show/Gabriel', '/Players/334087/Show/Gabriel', \\\n",
    "                  '/Players/149772/Show/Gabriel', '/Players/102259/Show/Rogerio', '/Players/322854/Show/Fabinho', \\\n",
    "                  '/Players/117622/Show/Fabinho', '/Players/107182/Show/Pablo', '/Players/136919/Show/Luiz-Gustavo', \\\n",
    "                  '/Players/329985/Show/Jorginho', '/Players/146665/Show/Jorginho', '/Players/41226/Show/Marquinhos', \n",
    "                  '/Players/26657/Show/Alvaro-Gonzalez', '/Players/83784/Show/Raul-Garcia', '/Players/43922/Show/Eder', \\\n",
    "                  '/Players/244297/Show/Adama-Traore', '/Players/271857/Show/Adama-Traore', '/Players/323230/Show/Koke', \\\n",
    "                  '/Players/118126/Show/Joao-Mario', '/Players/28059/Show/Everton', '/Players/315279/Show/Everton',\\\n",
    "                  '/Players/119540/Show/Luan', '/Players/78057/Show/Luan', '/Players/114948/Show/Luan', '/Players/342609/Show/Rafinha', \\\n",
    "                   '/Players/27333/Show/Rafinha', '/Players/41262/Show/Felipe', '/Players/9973/Show/Felipe', \\\n",
    "                   '/Players/33840/Show/Felipe', '/Players/89875/Show/Wanderson', '/Players/140977/Show/Wanderson', \\\n",
    "                   '/Players/111361/Show/Gerson', '/Players/341745/Show/Marlon', '/Players/41039/Show/Maicon', \\\n",
    "                   '/Players/29954/Show/Maicon', '/Players/130508/Show/Arthur', '/Players/355666/Show/Arthur', \\\n",
    "                   '/Players/59214/Show/Rafael', '/Players/64096/Show/Rafael', '/Players/101772/Show/Willian', \\\n",
    "                   '/Players/43938/Show/Luis-Alberto', '/Players/344667/Show/Cristian-Ramirez', '/Players/358561/Show/Fernandinho', \\\n",
    "                   '/Players/74428/Show/Fernandinho', '/Players/118149/Show/Fernandinho', '/Players/101472/Show/Dudu', \\\n",
    "                   '/Players/121496/Show/Carlos-Eduardo']"
   ]
  },
  {
   "cell_type": "code",
   "execution_count": 615,
   "metadata": {},
   "outputs": [],
   "source": [
    "whoscored = whoscored[~whoscored['URL'].isin(drop_urls_final)]\n",
    "merged = pd.merge(whoscored, final_transfermarkt, on = ['Name', 'Season'])"
   ]
  },
  {
   "cell_type": "code",
   "execution_count": null,
   "metadata": {},
   "outputs": [],
   "source": [
    "merged['Market_Value'] = merged['Market_Value'].apply(lambda row: float(row))\n",
    "merged['Age'] = merged['Age'].apply(lambda row: float(row))"
   ]
  },
  {
   "cell_type": "code",
   "execution_count": 623,
   "metadata": {},
   "outputs": [],
   "source": [
    "merged.to_pickle('TRANSFERMARKT_WHOSCORED_MERGE.pkl')"
   ]
  }
 ],
 "metadata": {
  "kernelspec": {
   "display_name": "Python 3",
   "language": "python",
   "name": "python3"
  },
  "language_info": {
   "codemirror_mode": {
    "name": "ipython",
    "version": 3
   },
   "file_extension": ".py",
   "mimetype": "text/x-python",
   "name": "python",
   "nbconvert_exporter": "python",
   "pygments_lexer": "ipython3",
   "version": "3.6.8"
  }
 },
 "nbformat": 4,
 "nbformat_minor": 2
}
