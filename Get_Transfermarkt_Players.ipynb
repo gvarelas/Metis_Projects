{
 "cells": [
  {
   "cell_type": "code",
   "execution_count": 2,
   "metadata": {},
   "outputs": [],
   "source": [
    "from __future__ import print_function, division\n",
    "import sys\n",
    "from bs4 import BeautifulSoup\n",
    "import requests\n",
    "\n",
    "requests.__path__\n",
    "\n",
    "import pandas as pd"
   ]
  },
  {
   "cell_type": "code",
   "execution_count": 15,
   "metadata": {},
   "outputs": [],
   "source": [
    "def scrape_page(Page, url):\n",
    "    #url = \"https://www.transfermarkt.co.uk/spieler-statistik/wertvollstespieler/marktwertetop?ajax=yw1&altersklasse=alle&ausrichtung=Sturm&jahrgang=0&land_id=0&plus=1&spielerposition_id=alle&page=\"\n",
    "    user_agent = {'User-agent': 'Mozilla/5.0'}\n",
    "    response  = requests.get(url + str(Page), headers = user_agent)\n",
    "    page = response.text\n",
    "    soup = BeautifulSoup(page, \"lxml\")\n",
    "    \n",
    "    \n",
    "    Players = soup.find_all(\"a\", {\"class\": \"spielprofil_tooltip\"})\n",
    "    Values = soup.find_all(\"td\", {\"class\": \"rechts hauptlink\"})\n",
    "    Numbers = soup.find_all(\"td\", {\"class\": \"zentriert\"})\n",
    "    Position = soup.find_all(\"table\", {\"class\": \"inline-table\"})\n",
    "    \n",
    "\n",
    "    age = []\n",
    "    club = []\n",
    "    matches = []\n",
    "    goals = []\n",
    "    own_goals = []\n",
    "    assists = []\n",
    "    yellow = []\n",
    "    second_yellow = []\n",
    "    red = []\n",
    "    sub_in = []\n",
    "    sub_out = []\n",
    "\n",
    "    #13 fields per row, 25 rows per page. 13*25 = 325\n",
    "    for i in range(1, 325):\n",
    "        if i % 13 == 1:\n",
    "            age.append(Numbers[i].text)\n",
    "        \n",
    "        elif i % 13 == 3:\n",
    "            \n",
    "            mask = str(Numbers[i]).split('img alt=\"')[1]\n",
    "            club.append(mask[:mask.find('\"')])\n",
    "        \n",
    "        elif i % 13 == 4:\n",
    "            matches.append(Numbers[i].text)\n",
    "        elif i % 13 == 5:\n",
    "            goals.append(Numbers[i].text)\n",
    "        elif i % 13 == 6:\n",
    "            own_goals.append(Numbers[i].text)\n",
    "        elif i % 13 == 7:\n",
    "            assists.append(Numbers[i].text)\n",
    "        elif i % 13 == 8:\n",
    "            yellow.append(Numbers[i].text)\n",
    "        elif i % 13 == 9:\n",
    "            second_yellow.append(Numbers[i].text)\n",
    "        elif i % 13 == 10:\n",
    "            red.append(Numbers[i].text)\n",
    "        elif i % 13 == 11:\n",
    "            sub_in.append(Numbers[i].text)\n",
    "        elif i % 13 == 12:\n",
    "            sub_out.append(Numbers[i].text)\n",
    "\n",
    "    PlayersList = []\n",
    "    ValuesList = []\n",
    "    PositionsList = []\n",
    "    Old_Values = []\n",
    "    Profile_links = []\n",
    "    \n",
    "    for i in range(0,25):\n",
    "        PlayersList.append(Players[i].text)\n",
    "        ValuesList.append(Values[i].text)\n",
    "        PositionsList.append(Position[i].text[len(Players[i].text):])\n",
    "        \n",
    "        snippet = str(Values[i]).split('title=\"')[1]\n",
    "        Old_Values.append(snippet[:snippet.find('\"')])\n",
    "        \n",
    "        snippet2 = str(Players[i]).split()[2].split('href=\"')[1][:-1]\n",
    "        Profile_links.append(snippet2)\n",
    "\n",
    "    df = pd.DataFrame({\"Players\":PlayersList,\"Profile_Link\":Profile_links,  \"Club\": club, \"Values\":ValuesList, \"Old Values\": Old_Values, \"Position\":PositionsList, \"Age\": age, \"Matches\": matches, \"Goals\": goals, \\\n",
    "                      \"Own Goals\": own_goals, \"Assists\": assists, \"Yellow Cards\": yellow, \"Second Yellow\": second_yellow, \\\n",
    "                      \"Red Cards\": red, \"Sub In\": sub_in, \"Sub Out\": sub_out})\n",
    "\n",
    "    return(df)"
   ]
  },
  {
   "cell_type": "code",
   "execution_count": null,
   "metadata": {},
   "outputs": [],
   "source": [
    "urls = [\"https://www.transfermarkt.co.uk/spieler-statistik/wertvollstespieler/marktwertetop?ajax=yw1&altersklasse=alle&ausrichtung=Sturm&jahrgang=0&land_id=0&plus=1&spielerposition_id=alle&page=\", \\\n",
    "       \"https://www.transfermarkt.co.uk/spieler-statistik/wertvollstespieler/marktwertetop?ajax=yw1&altersklasse=alle&ausrichtung=Mittelfeld&jahrgang=0&land_id=0&plus=1&spielerposition_id=alle&page=\", \\\n",
    "       \"https://www.transfermarkt.co.uk/spieler-statistik/wertvollstespieler/marktwertetop?ajax=yw1&altersklasse=alle&ausrichtung=Abwehr&jahrgang=0&land_id=0&plus=1&spielerposition_id=alle&page=\"\n",
    "       ]\n",
    "\n",
    "players = scrape_page(1, urls[0])\n",
    "for i in range(3):\n",
    "    for j in range(1, 21):\n",
    "        players = players.append(scrape_page(j, urls[i]), ignore_index = True)\n",
    "players = players.iloc[26:,:]"
   ]
  },
  {
   "cell_type": "code",
   "execution_count": null,
   "metadata": {},
   "outputs": [],
   "source": [
    "#convert strings to numbers\n",
    "for i in players.columns[6:]:\n",
    "    players[i] = players[i].apply(lambda row: int(row))"
   ]
  },
  {
   "cell_type": "code",
   "execution_count": null,
   "metadata": {},
   "outputs": [],
   "source": [
    "#convert values to millions of euros\n",
    "def strip_values(i):\n",
    "    if i[-1] == 'm':\n",
    "        return(float(i[1:-1]))\n",
    "    elif i[-1] == 'k':\n",
    "        return(float(i[1:-1])/1000)"
   ]
  },
  {
   "cell_type": "code",
   "execution_count": null,
   "metadata": {},
   "outputs": [],
   "source": [
    "#issue with last character in entries for forwards\n",
    "players['Values'] = players['Values'].str[:-1]\n",
    "players['Values'] = players['Values'].apply(strip_values)\n",
    "players['Old Values'] = players['Old Values'].apply(strip_values)"
   ]
  },
  {
   "cell_type": "code",
   "execution_count": null,
   "metadata": {},
   "outputs": [],
   "source": [
    "players.to_pickle(\"Players_Transfermarkt.pkl\")"
   ]
  }
 ],
 "metadata": {
  "kernelspec": {
   "display_name": "Python 3",
   "language": "python",
   "name": "python3"
  },
  "language_info": {
   "codemirror_mode": {
    "name": "ipython",
    "version": 3
   },
   "file_extension": ".py",
   "mimetype": "text/x-python",
   "name": "python",
   "nbconvert_exporter": "python",
   "pygments_lexer": "ipython3",
   "version": "3.6.8"
  }
 },
 "nbformat": 4,
 "nbformat_minor": 2
}
